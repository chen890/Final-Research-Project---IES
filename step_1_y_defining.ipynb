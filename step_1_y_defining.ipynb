{
 "cells": [
  {
   "cell_type": "code",
   "execution_count": 3,
   "metadata": {},
   "outputs": [],
   "source": [
    "import numpy as np\n",
    "import pandas as pd\n",
    "import pandasql as ps\n",
    "import seaborn as sns\n",
    "import scipy\n",
    "pd.set_option(\"display.max_rows\", 200)\n",
    "pd.set_option(\"display.max_columns\", 200)"
   ]
  },
  {
   "cell_type": "markdown",
   "metadata": {},
   "source": [
    "# reading the data "
   ]
  },
  {
   "cell_type": "code",
   "execution_count": 5,
   "metadata": {},
   "outputs": [],
   "source": [
    "row_df = pd.read_excel('chen_shalev_row_data_correct_header_befor_labaling.xlsx')"
   ]
  },
  {
   "cell_type": "code",
   "execution_count": 6,
   "metadata": {},
   "outputs": [],
   "source": [
    "df = row_df[:]  # object copy"
   ]
  },
  {
   "cell_type": "markdown",
   "metadata": {},
   "source": [
    "# defining y"
   ]
  },
  {
   "cell_type": "code",
   "execution_count": 7,
   "metadata": {},
   "outputs": [],
   "source": [
    "df.loc[(df['מספר מקרי דלת מסתובבת מאז כניסה לתכנית'].isnull()),'מספר מקרי דלת מסתובבת מאז כניסה לתכנית'] =0\n",
    "df.loc[(df['השמות מכניסה לתוכנית'].isnull()),'השמות מכניסה לתוכנית'] =0"
   ]
  },
  {
   "cell_type": "markdown",
   "metadata": {},
   "source": [
    "### class 1 - very_high_placing_quality"
   ]
  },
  {
   "cell_type": "code",
   "execution_count": 8,
   "metadata": {},
   "outputs": [
    {
     "name": "stdout",
     "output_type": "stream",
     "text": [
      "lenght of class 1 is 2542\n"
     ]
    }
   ],
   "source": [
    "a_1 = (df['השמות מכניסה לתוכנית'] == 1) & (df['תאריך חידוש פעילות'].astype(str) == 'NaT')&\\\n",
    "(df['תאריך חידוש רישום'].astype(str) == 'NaT') & (df['מספר מקרי דלת מסתובבת מאז כניסה לתכנית'] == 0)\n",
    "df.loc[a_1,'label']  = 1\n",
    "print(f'lenght of class 1 is {sum(a_1)}')"
   ]
  },
  {
   "cell_type": "markdown",
   "metadata": {},
   "source": [
    "### class 2 - high_placing_quality"
   ]
  },
  {
   "cell_type": "code",
   "execution_count": 9,
   "metadata": {
    "scrolled": true
   },
   "outputs": [
    {
     "name": "stdout",
     "output_type": "stream",
     "text": [
      "lenght of class 2 is 7579\n"
     ]
    }
   ],
   "source": [
    "a_2 = (df['השמות מכניסה לתוכנית'] >=1) &\\\n",
    "      (df['מספר מקרי דלת מסתובבת מאז כניסה לתכנית'] == 0) & \\\n",
    "      np.logical_or(((df['תאריך חידוש פעילות'].astype(str) != 'NaT') & (df['תאריך חידוש רישום'].astype(str) == 'NaT')),\n",
    "                    ((df['תאריך חידוש פעילות'].astype(str) == 'NaT') & (df['תאריך חידוש רישום'].astype(str) != 'NaT'))) \n",
    "    \n",
    "df.loc[a_2,'label']  = 2\n",
    "print(f'lenght of class 2 is {sum(a_2)}')\n"
   ]
  },
  {
   "cell_type": "markdown",
   "metadata": {},
   "source": [
    "### class 4 - low_quality_placing\n"
   ]
  },
  {
   "cell_type": "code",
   "execution_count": 10,
   "metadata": {},
   "outputs": [
    {
     "name": "stdout",
     "output_type": "stream",
     "text": [
      "lenght of class 4 is 39019\n"
     ]
    }
   ],
   "source": [
    "a_4 = np.logical_or(\n",
    "                    df['השמות מכניסה לתוכנית'] == 0,\n",
    "                    df['מספר מקרי דלת מסתובבת מאז כניסה לתכנית'] > 0\n",
    "                   )\n",
    "\n",
    "np.logical_or\n",
    "a_4 =  np.logical_or(\n",
    "                    a_4,\n",
    "                    np.logical_and(df['תאריך גריעה'].astype(str) == 'nan' ,df['תאריך גריעה'] == 0)\n",
    "                    )\n",
    "                                        \n",
    "\n",
    "df.loc[a_4,'label']  = 4\n",
    "print(f'lenght of class 4 is {sum(a_4)}')\n"
   ]
  },
  {
   "cell_type": "markdown",
   "metadata": {},
   "source": [
    "### class 3 - mediume_quality_placing\n"
   ]
  },
  {
   "cell_type": "code",
   "execution_count": 11,
   "metadata": {},
   "outputs": [
    {
     "name": "stdout",
     "output_type": "stream",
     "text": [
      "lenght of class 3 is 6849\n"
     ]
    }
   ],
   "source": [
    "a_3 =[]\n",
    "for x,y,z in zip(a_1,a_2,a_4):\n",
    "    if (x==True) or (y==True) or (z==True):\n",
    "        a_3.append(False)\n",
    "    else:\n",
    "        a_3.append(True)\n",
    "                                        \n",
    "\n",
    "df.loc[a_3,'label']  = 3\n",
    "print(f'lenght of class 3 is {sum(a_3)}')\n"
   ]
  },
  {
   "cell_type": "markdown",
   "metadata": {},
   "source": [
    "# check"
   ]
  },
  {
   "cell_type": "code",
   "execution_count": 12,
   "metadata": {},
   "outputs": [
    {
     "name": "stdout",
     "output_type": "stream",
     "text": [
      "55989\n",
      "55989\n"
     ]
    }
   ],
   "source": [
    "print( sum(a_1) + sum(a_2) + sum(a_3) + sum(a_4) )\n",
    "print(df.shape[0])"
   ]
  },
  {
   "cell_type": "markdown",
   "metadata": {},
   "source": [
    "# saving the results"
   ]
  },
  {
   "cell_type": "code",
   "execution_count": 13,
   "metadata": {},
   "outputs": [],
   "source": [
    "df.to_excel('chen_shalev_labeld_row_data.xlsx')"
   ]
  },
  {
   "cell_type": "code",
   "execution_count": null,
   "metadata": {},
   "outputs": [],
   "source": []
  }
 ],
 "metadata": {
  "kernelspec": {
   "display_name": "Python 3",
   "language": "python",
   "name": "python3"
  },
  "language_info": {
   "codemirror_mode": {
    "name": "ipython",
    "version": 3
   },
   "file_extension": ".py",
   "mimetype": "text/x-python",
   "name": "python",
   "nbconvert_exporter": "python",
   "pygments_lexer": "ipython3",
   "version": "3.7.3"
  }
 },
 "nbformat": 4,
 "nbformat_minor": 2
}

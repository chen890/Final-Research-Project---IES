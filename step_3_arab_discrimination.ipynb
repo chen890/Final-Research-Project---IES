{
 "cells": [
  {
   "cell_type": "code",
   "execution_count": 19,
   "metadata": {},
   "outputs": [],
   "source": [
    "import numpy as np\n",
    "import pandas as pd\n",
    "import pandasql as ps\n",
    "import seaborn as sns\n",
    "import scipy\n",
    "import matplotlib.pyplot as plt\n",
    "import scipy as sp\n",
    "from scipy import stats\n",
    "pd.set_option(\"display.max_rows\", 200)\n",
    "pd.set_option(\"display.max_columns\", 200)\n"
   ]
  },
  {
   "cell_type": "markdown",
   "metadata": {},
   "source": [
    "# reading the data "
   ]
  },
  {
   "cell_type": "code",
   "execution_count": 20,
   "metadata": {},
   "outputs": [],
   "source": [
    "row_df = pd.read_excel('chen_shalev_labeld_row_data.xlsx')"
   ]
  },
  {
   "cell_type": "code",
   "execution_count": 21,
   "metadata": {},
   "outputs": [],
   "source": [
    "df = row_df[:]  # object copy"
   ]
  },
  {
   "cell_type": "markdown",
   "metadata": {},
   "source": [
    "### good/bad flaging"
   ]
  },
  {
   "cell_type": "code",
   "execution_count": 22,
   "metadata": {},
   "outputs": [],
   "source": [
    "good_placing = np.logical_or(df['label'] == 1 , df['label'] == 2)\n",
    "bad_placing  = ~good_placing\n"
   ]
  },
  {
   "cell_type": "code",
   "execution_count": 37,
   "metadata": {},
   "outputs": [],
   "source": [
    "df.loc[bad_placing,'is_good_placing'] = 0\n",
    "df.loc[good_placing,'is_good_placing'] = 1\n"
   ]
  },
  {
   "cell_type": "markdown",
   "metadata": {},
   "source": [
    "# arab_not_arab_flaging"
   ]
  },
  {
   "cell_type": "code",
   "execution_count": 24,
   "metadata": {},
   "outputs": [],
   "source": [
    "df = df[['לשכה מקודדת','שפות','דת','label','is_good_placing']]"
   ]
  },
  {
   "cell_type": "code",
   "execution_count": 25,
   "metadata": {
    "scrolled": true
   },
   "outputs": [],
   "source": [
    "contains = df['שפות'].str.contains('ערבית') & (df['דת'].str.contains('יהודי')==False)\n",
    "not_contains = [not x for x in contains]\n",
    "df.loc[contains, 'is_arab'] = 1\n",
    "df.loc[not_contains, 'is_arab'] = 0"
   ]
  },
  {
   "cell_type": "code",
   "execution_count": 38,
   "metadata": {},
   "outputs": [
    {
     "data": {
      "text/html": [
       "<div>\n",
       "<style scoped>\n",
       "    .dataframe tbody tr th:only-of-type {\n",
       "        vertical-align: middle;\n",
       "    }\n",
       "\n",
       "    .dataframe tbody tr th {\n",
       "        vertical-align: top;\n",
       "    }\n",
       "\n",
       "    .dataframe thead th {\n",
       "        text-align: right;\n",
       "    }\n",
       "</style>\n",
       "<table border=\"1\" class=\"dataframe\">\n",
       "  <thead>\n",
       "    <tr style=\"text-align: right;\">\n",
       "      <th></th>\n",
       "      <th>לשכה מקודדת</th>\n",
       "      <th>שפות</th>\n",
       "      <th>דת</th>\n",
       "      <th>label</th>\n",
       "      <th>is_good_placing</th>\n",
       "      <th>is_arab</th>\n",
       "    </tr>\n",
       "  </thead>\n",
       "  <tbody>\n",
       "    <tr>\n",
       "      <th>0</th>\n",
       "      <td>ד16</td>\n",
       "      <td>עברית -בסיסית, ערבית -שפת אם</td>\n",
       "      <td>מוסלמי</td>\n",
       "      <td>4</td>\n",
       "      <td>0.0</td>\n",
       "      <td>1.0</td>\n",
       "    </tr>\n",
       "    <tr>\n",
       "      <th>1</th>\n",
       "      <td>ד16</td>\n",
       "      <td>עברית -בסיסית, ערבית -שפת אם</td>\n",
       "      <td>מוסלמי</td>\n",
       "      <td>3</td>\n",
       "      <td>0.0</td>\n",
       "      <td>1.0</td>\n",
       "    </tr>\n",
       "    <tr>\n",
       "      <th>2</th>\n",
       "      <td>ד16</td>\n",
       "      <td>עברית -גבוהה, ערבית -שפת אם</td>\n",
       "      <td>מוסלמי</td>\n",
       "      <td>2</td>\n",
       "      <td>1.0</td>\n",
       "      <td>1.0</td>\n",
       "    </tr>\n",
       "    <tr>\n",
       "      <th>3</th>\n",
       "      <td>ד16</td>\n",
       "      <td>עברית -בסיסית, ערבית -שפת אם</td>\n",
       "      <td>מוסלמי</td>\n",
       "      <td>4</td>\n",
       "      <td>0.0</td>\n",
       "      <td>1.0</td>\n",
       "    </tr>\n",
       "    <tr>\n",
       "      <th>4</th>\n",
       "      <td>ד16</td>\n",
       "      <td>ערבית -שפת אם</td>\n",
       "      <td>מוסלמי</td>\n",
       "      <td>2</td>\n",
       "      <td>1.0</td>\n",
       "      <td>1.0</td>\n",
       "    </tr>\n",
       "    <tr>\n",
       "      <th>5</th>\n",
       "      <td>ד16</td>\n",
       "      <td>עברית -בסיסית, ערבית -שפת אם</td>\n",
       "      <td>מוסלמי</td>\n",
       "      <td>4</td>\n",
       "      <td>0.0</td>\n",
       "      <td>1.0</td>\n",
       "    </tr>\n",
       "    <tr>\n",
       "      <th>6</th>\n",
       "      <td>ד16</td>\n",
       "      <td>עברית -בסיסית, ערבית -שפת אם</td>\n",
       "      <td>מוסלמי</td>\n",
       "      <td>4</td>\n",
       "      <td>0.0</td>\n",
       "      <td>1.0</td>\n",
       "    </tr>\n",
       "    <tr>\n",
       "      <th>7</th>\n",
       "      <td>ד16</td>\n",
       "      <td>עברית -גבוהה, ערבית -שפת אם</td>\n",
       "      <td>מוסלמי סוני</td>\n",
       "      <td>4</td>\n",
       "      <td>0.0</td>\n",
       "      <td>1.0</td>\n",
       "    </tr>\n",
       "    <tr>\n",
       "      <th>8</th>\n",
       "      <td>ד16</td>\n",
       "      <td>עברית -בסיסית, ערבית -שפת אם</td>\n",
       "      <td>מוסלמי</td>\n",
       "      <td>2</td>\n",
       "      <td>1.0</td>\n",
       "      <td>1.0</td>\n",
       "    </tr>\n",
       "    <tr>\n",
       "      <th>9</th>\n",
       "      <td>ד16</td>\n",
       "      <td>עברית -בסיסית, ערבית -שפת אם</td>\n",
       "      <td>מוסלמי</td>\n",
       "      <td>4</td>\n",
       "      <td>0.0</td>\n",
       "      <td>1.0</td>\n",
       "    </tr>\n",
       "  </tbody>\n",
       "</table>\n",
       "</div>"
      ],
      "text/plain": [
       "  לשכה מקודדת                          שפות           דת  label  \\\n",
       "0         ד16  עברית -בסיסית, ערבית -שפת אם       מוסלמי      4   \n",
       "1         ד16  עברית -בסיסית, ערבית -שפת אם       מוסלמי      3   \n",
       "2         ד16   עברית -גבוהה, ערבית -שפת אם       מוסלמי      2   \n",
       "3         ד16  עברית -בסיסית, ערבית -שפת אם       מוסלמי      4   \n",
       "4         ד16                 ערבית -שפת אם       מוסלמי      2   \n",
       "5         ד16  עברית -בסיסית, ערבית -שפת אם       מוסלמי      4   \n",
       "6         ד16  עברית -בסיסית, ערבית -שפת אם       מוסלמי      4   \n",
       "7         ד16   עברית -גבוהה, ערבית -שפת אם  מוסלמי סוני      4   \n",
       "8         ד16  עברית -בסיסית, ערבית -שפת אם       מוסלמי      2   \n",
       "9         ד16  עברית -בסיסית, ערבית -שפת אם       מוסלמי      4   \n",
       "\n",
       "   is_good_placing  is_arab  \n",
       "0              0.0      1.0  \n",
       "1              0.0      1.0  \n",
       "2              1.0      1.0  \n",
       "3              0.0      1.0  \n",
       "4              1.0      1.0  \n",
       "5              0.0      1.0  \n",
       "6              0.0      1.0  \n",
       "7              0.0      1.0  \n",
       "8              1.0      1.0  \n",
       "9              0.0      1.0  "
      ]
     },
     "execution_count": 38,
     "metadata": {},
     "output_type": "execute_result"
    }
   ],
   "source": [
    "pd.set_option(\"display.max_rows\", 200)\n",
    "df.head(10)"
   ]
  },
  {
   "cell_type": "code",
   "execution_count": 27,
   "metadata": {},
   "outputs": [
    {
     "data": {
      "text/html": [
       "<div>\n",
       "<style scoped>\n",
       "    .dataframe tbody tr th:only-of-type {\n",
       "        vertical-align: middle;\n",
       "    }\n",
       "\n",
       "    .dataframe tbody tr th {\n",
       "        vertical-align: top;\n",
       "    }\n",
       "\n",
       "    .dataframe thead th {\n",
       "        text-align: right;\n",
       "    }\n",
       "</style>\n",
       "<table border=\"1\" class=\"dataframe\">\n",
       "  <thead>\n",
       "    <tr style=\"text-align: right;\">\n",
       "      <th></th>\n",
       "      <th>לשכה מקודדת</th>\n",
       "      <th>is_arab</th>\n",
       "      <th>is_good_placing</th>\n",
       "    </tr>\n",
       "  </thead>\n",
       "  <tbody>\n",
       "    <tr>\n",
       "      <th>0</th>\n",
       "      <td>ד16</td>\n",
       "      <td>1.0</td>\n",
       "      <td>0.0</td>\n",
       "    </tr>\n",
       "    <tr>\n",
       "      <th>1</th>\n",
       "      <td>ד16</td>\n",
       "      <td>1.0</td>\n",
       "      <td>0.0</td>\n",
       "    </tr>\n",
       "    <tr>\n",
       "      <th>2</th>\n",
       "      <td>ד16</td>\n",
       "      <td>1.0</td>\n",
       "      <td>1.0</td>\n",
       "    </tr>\n",
       "    <tr>\n",
       "      <th>3</th>\n",
       "      <td>ד16</td>\n",
       "      <td>1.0</td>\n",
       "      <td>0.0</td>\n",
       "    </tr>\n",
       "    <tr>\n",
       "      <th>4</th>\n",
       "      <td>ד16</td>\n",
       "      <td>1.0</td>\n",
       "      <td>1.0</td>\n",
       "    </tr>\n",
       "  </tbody>\n",
       "</table>\n",
       "</div>"
      ],
      "text/plain": [
       "  לשכה מקודדת  is_arab  is_good_placing\n",
       "0         ד16      1.0              0.0\n",
       "1         ד16      1.0              0.0\n",
       "2         ד16      1.0              1.0\n",
       "3         ד16      1.0              0.0\n",
       "4         ד16      1.0              1.0"
      ]
     },
     "execution_count": 27,
     "metadata": {},
     "output_type": "execute_result"
    }
   ],
   "source": [
    "df_ready = df[['לשכה מקודדת','is_arab','is_good_placing']]\n",
    "df_ready.head()"
   ]
  },
  {
   "cell_type": "markdown",
   "metadata": {},
   "source": [
    "## data manipulation - extracting count and proportions of each office and nation"
   ]
  },
  {
   "cell_type": "code",
   "execution_count": 28,
   "metadata": {},
   "outputs": [],
   "source": [
    "agg_data = ps.sqldf(f\"\"\"select a.office,\n",
    "                               a.is_arab,\n",
    "                               a.count_office_and_nation,\n",
    "                               b.count_office,\n",
    "                               a.count_office_and_nation * 1.0/ b.count_office proption_within_office,\n",
    "                               a.avg as proportion_of_good_placing\n",
    "                               \n",
    "                        from\n",
    "                        (SELECT  \"לשכה מקודדת\" as office,\n",
    "                                is_arab,\n",
    "                                count(*) count_office_and_nation,       \n",
    "                                AVG(is_good_placing) avg\n",
    "                       FROM df_ready \n",
    "                       group by 1,2) a\n",
    "                       \n",
    "                       left join (select \"לשכה מקודדת\" as office,\n",
    "                                        count(*) count_office\n",
    "                                from df_ready\n",
    "                                group by 1) b\n",
    "                        on a.office = b.office\n",
    "                        \n",
    "                        inner join (SELECT office\n",
    "                                    from\n",
    "                                        (select \"לשכה מקודדת\" as office,\n",
    "                                                 is_arab,\n",
    "                                                 count(*) count_office_and_nation \n",
    "                                         FROM df_ready \n",
    "                                         group by 1,2\n",
    "                                         having count_office_and_nation > 14)\n",
    "                                    group by 1 \n",
    "                                    having count(office) = 2 ) c\n",
    "                            on a.office = c.office\n",
    "                            \n",
    "                       ;\n",
    "                       \"\"\", globals())"
   ]
  },
  {
   "cell_type": "code",
   "execution_count": 29,
   "metadata": {},
   "outputs": [
    {
     "data": {
      "text/html": [
       "<div>\n",
       "<style scoped>\n",
       "    .dataframe tbody tr th:only-of-type {\n",
       "        vertical-align: middle;\n",
       "    }\n",
       "\n",
       "    .dataframe tbody tr th {\n",
       "        vertical-align: top;\n",
       "    }\n",
       "\n",
       "    .dataframe thead th {\n",
       "        text-align: right;\n",
       "    }\n",
       "</style>\n",
       "<table border=\"1\" class=\"dataframe\">\n",
       "  <thead>\n",
       "    <tr style=\"text-align: right;\">\n",
       "      <th></th>\n",
       "      <th>office</th>\n",
       "      <th>is_arab</th>\n",
       "      <th>count_office_and_nation</th>\n",
       "      <th>count_office</th>\n",
       "      <th>proption_within_office</th>\n",
       "      <th>proportion_of_good_placing</th>\n",
       "    </tr>\n",
       "  </thead>\n",
       "  <tbody>\n",
       "    <tr>\n",
       "      <th>0</th>\n",
       "      <td>א4</td>\n",
       "      <td>0.0</td>\n",
       "      <td>2220</td>\n",
       "      <td>2553</td>\n",
       "      <td>0.869565</td>\n",
       "      <td>0.185135</td>\n",
       "    </tr>\n",
       "    <tr>\n",
       "      <th>1</th>\n",
       "      <td>א4</td>\n",
       "      <td>1.0</td>\n",
       "      <td>333</td>\n",
       "      <td>2553</td>\n",
       "      <td>0.130435</td>\n",
       "      <td>0.165165</td>\n",
       "    </tr>\n",
       "    <tr>\n",
       "      <th>2</th>\n",
       "      <td>א6</td>\n",
       "      <td>0.0</td>\n",
       "      <td>787</td>\n",
       "      <td>1006</td>\n",
       "      <td>0.782306</td>\n",
       "      <td>0.111817</td>\n",
       "    </tr>\n",
       "    <tr>\n",
       "      <th>3</th>\n",
       "      <td>א6</td>\n",
       "      <td>1.0</td>\n",
       "      <td>219</td>\n",
       "      <td>1006</td>\n",
       "      <td>0.217694</td>\n",
       "      <td>0.114155</td>\n",
       "    </tr>\n",
       "    <tr>\n",
       "      <th>4</th>\n",
       "      <td>ב10</td>\n",
       "      <td>0.0</td>\n",
       "      <td>101</td>\n",
       "      <td>1872</td>\n",
       "      <td>0.053953</td>\n",
       "      <td>0.099010</td>\n",
       "    </tr>\n",
       "  </tbody>\n",
       "</table>\n",
       "</div>"
      ],
      "text/plain": [
       "  office  is_arab  count_office_and_nation  count_office  \\\n",
       "0     א4      0.0                     2220          2553   \n",
       "1     א4      1.0                      333          2553   \n",
       "2     א6      0.0                      787          1006   \n",
       "3     א6      1.0                      219          1006   \n",
       "4    ב10      0.0                      101          1872   \n",
       "\n",
       "   proption_within_office  proportion_of_good_placing  \n",
       "0                0.869565                    0.185135  \n",
       "1                0.130435                    0.165165  \n",
       "2                0.782306                    0.111817  \n",
       "3                0.217694                    0.114155  \n",
       "4                0.053953                    0.099010  "
      ]
     },
     "execution_count": 29,
     "metadata": {},
     "output_type": "execute_result"
    }
   ],
   "source": [
    "agg_data.head()"
   ]
  },
  {
   "cell_type": "markdown",
   "metadata": {},
   "source": [
    "### lets check if our data id taken from normal distribution"
   ]
  },
  {
   "cell_type": "code",
   "execution_count": 30,
   "metadata": {},
   "outputs": [],
   "source": [
    "flat_agg_data = ps.sqldf(f\"\"\"select *,\n",
    "                                    not_arab_proportion  - arab_proportion as diff\n",
    "                            from(\n",
    "                                SELECT  office,\n",
    "                                         max(case when is_arab = 1 then count_office_and_nation end ) arab_count_within_office,\n",
    "                                         max(case when is_arab = 0 then count_office_and_nation end ) not_arab_count_within_office,\n",
    "\n",
    "                                         max(case when is_arab = 1 then proportion_of_good_placing end ) arab_proportion,\n",
    "                                         max(case when is_arab = 0 then proportion_of_good_placing end ) not_arab_proportion \n",
    "                               FROM agg_data \n",
    "                               group by 1 )\n",
    "                        \"\"\", globals())"
   ]
  },
  {
   "cell_type": "code",
   "execution_count": 31,
   "metadata": {},
   "outputs": [
    {
     "data": {
      "text/html": [
       "<div>\n",
       "<style scoped>\n",
       "    .dataframe tbody tr th:only-of-type {\n",
       "        vertical-align: middle;\n",
       "    }\n",
       "\n",
       "    .dataframe tbody tr th {\n",
       "        vertical-align: top;\n",
       "    }\n",
       "\n",
       "    .dataframe thead th {\n",
       "        text-align: right;\n",
       "    }\n",
       "</style>\n",
       "<table border=\"1\" class=\"dataframe\">\n",
       "  <thead>\n",
       "    <tr style=\"text-align: right;\">\n",
       "      <th></th>\n",
       "      <th>office</th>\n",
       "      <th>arab_count_within_office</th>\n",
       "      <th>not_arab_count_within_office</th>\n",
       "      <th>arab_proportion</th>\n",
       "      <th>not_arab_proportion</th>\n",
       "      <th>diff</th>\n",
       "    </tr>\n",
       "  </thead>\n",
       "  <tbody>\n",
       "    <tr>\n",
       "      <th>0</th>\n",
       "      <td>א4</td>\n",
       "      <td>333</td>\n",
       "      <td>2220</td>\n",
       "      <td>0.165165</td>\n",
       "      <td>0.185135</td>\n",
       "      <td>0.019970</td>\n",
       "    </tr>\n",
       "    <tr>\n",
       "      <th>1</th>\n",
       "      <td>א6</td>\n",
       "      <td>219</td>\n",
       "      <td>787</td>\n",
       "      <td>0.114155</td>\n",
       "      <td>0.111817</td>\n",
       "      <td>-0.002338</td>\n",
       "    </tr>\n",
       "    <tr>\n",
       "      <th>2</th>\n",
       "      <td>ב10</td>\n",
       "      <td>1771</td>\n",
       "      <td>101</td>\n",
       "      <td>0.109543</td>\n",
       "      <td>0.099010</td>\n",
       "      <td>-0.010533</td>\n",
       "    </tr>\n",
       "    <tr>\n",
       "      <th>3</th>\n",
       "      <td>ב3</td>\n",
       "      <td>2916</td>\n",
       "      <td>1725</td>\n",
       "      <td>0.141975</td>\n",
       "      <td>0.149565</td>\n",
       "      <td>0.007590</td>\n",
       "    </tr>\n",
       "    <tr>\n",
       "      <th>4</th>\n",
       "      <td>ב5</td>\n",
       "      <td>1068</td>\n",
       "      <td>644</td>\n",
       "      <td>0.082397</td>\n",
       "      <td>0.083851</td>\n",
       "      <td>0.001454</td>\n",
       "    </tr>\n",
       "    <tr>\n",
       "      <th>5</th>\n",
       "      <td>ב8</td>\n",
       "      <td>43</td>\n",
       "      <td>39</td>\n",
       "      <td>0.023256</td>\n",
       "      <td>0.102564</td>\n",
       "      <td>0.079308</td>\n",
       "    </tr>\n",
       "    <tr>\n",
       "      <th>6</th>\n",
       "      <td>ג1</td>\n",
       "      <td>250</td>\n",
       "      <td>2714</td>\n",
       "      <td>0.196000</td>\n",
       "      <td>0.231393</td>\n",
       "      <td>0.035393</td>\n",
       "    </tr>\n",
       "    <tr>\n",
       "      <th>7</th>\n",
       "      <td>ג11</td>\n",
       "      <td>444</td>\n",
       "      <td>482</td>\n",
       "      <td>0.141892</td>\n",
       "      <td>0.124481</td>\n",
       "      <td>-0.017411</td>\n",
       "    </tr>\n",
       "    <tr>\n",
       "      <th>8</th>\n",
       "      <td>ג3</td>\n",
       "      <td>22</td>\n",
       "      <td>44</td>\n",
       "      <td>0.090909</td>\n",
       "      <td>0.022727</td>\n",
       "      <td>-0.068182</td>\n",
       "    </tr>\n",
       "    <tr>\n",
       "      <th>9</th>\n",
       "      <td>ג5</td>\n",
       "      <td>1983</td>\n",
       "      <td>106</td>\n",
       "      <td>0.177005</td>\n",
       "      <td>0.132075</td>\n",
       "      <td>-0.044929</td>\n",
       "    </tr>\n",
       "    <tr>\n",
       "      <th>10</th>\n",
       "      <td>ד1</td>\n",
       "      <td>59</td>\n",
       "      <td>783</td>\n",
       "      <td>0.203390</td>\n",
       "      <td>0.174968</td>\n",
       "      <td>-0.028422</td>\n",
       "    </tr>\n",
       "    <tr>\n",
       "      <th>11</th>\n",
       "      <td>ד10</td>\n",
       "      <td>40</td>\n",
       "      <td>246</td>\n",
       "      <td>0.200000</td>\n",
       "      <td>0.073171</td>\n",
       "      <td>-0.126829</td>\n",
       "    </tr>\n",
       "    <tr>\n",
       "      <th>12</th>\n",
       "      <td>ד12</td>\n",
       "      <td>34</td>\n",
       "      <td>48</td>\n",
       "      <td>0.029412</td>\n",
       "      <td>0.062500</td>\n",
       "      <td>0.033088</td>\n",
       "    </tr>\n",
       "    <tr>\n",
       "      <th>13</th>\n",
       "      <td>ד14</td>\n",
       "      <td>2923</td>\n",
       "      <td>23</td>\n",
       "      <td>0.232638</td>\n",
       "      <td>0.217391</td>\n",
       "      <td>-0.015246</td>\n",
       "    </tr>\n",
       "    <tr>\n",
       "      <th>14</th>\n",
       "      <td>ד15</td>\n",
       "      <td>819</td>\n",
       "      <td>18</td>\n",
       "      <td>0.113553</td>\n",
       "      <td>0.000000</td>\n",
       "      <td>-0.113553</td>\n",
       "    </tr>\n",
       "    <tr>\n",
       "      <th>15</th>\n",
       "      <td>ד16</td>\n",
       "      <td>2722</td>\n",
       "      <td>29</td>\n",
       "      <td>0.243571</td>\n",
       "      <td>0.310345</td>\n",
       "      <td>0.066774</td>\n",
       "    </tr>\n",
       "    <tr>\n",
       "      <th>16</th>\n",
       "      <td>ד18</td>\n",
       "      <td>97</td>\n",
       "      <td>112</td>\n",
       "      <td>0.092784</td>\n",
       "      <td>0.116071</td>\n",
       "      <td>0.023288</td>\n",
       "    </tr>\n",
       "    <tr>\n",
       "      <th>17</th>\n",
       "      <td>ד19</td>\n",
       "      <td>79</td>\n",
       "      <td>1200</td>\n",
       "      <td>0.164557</td>\n",
       "      <td>0.155000</td>\n",
       "      <td>-0.009557</td>\n",
       "    </tr>\n",
       "    <tr>\n",
       "      <th>18</th>\n",
       "      <td>ד22</td>\n",
       "      <td>1644</td>\n",
       "      <td>59</td>\n",
       "      <td>0.248175</td>\n",
       "      <td>0.288136</td>\n",
       "      <td>0.039960</td>\n",
       "    </tr>\n",
       "    <tr>\n",
       "      <th>19</th>\n",
       "      <td>ד24</td>\n",
       "      <td>2157</td>\n",
       "      <td>170</td>\n",
       "      <td>0.293927</td>\n",
       "      <td>0.235294</td>\n",
       "      <td>-0.058633</td>\n",
       "    </tr>\n",
       "    <tr>\n",
       "      <th>20</th>\n",
       "      <td>ד3</td>\n",
       "      <td>699</td>\n",
       "      <td>92</td>\n",
       "      <td>0.236052</td>\n",
       "      <td>0.293478</td>\n",
       "      <td>0.057427</td>\n",
       "    </tr>\n",
       "    <tr>\n",
       "      <th>21</th>\n",
       "      <td>ד4</td>\n",
       "      <td>50</td>\n",
       "      <td>27</td>\n",
       "      <td>0.160000</td>\n",
       "      <td>0.074074</td>\n",
       "      <td>-0.085926</td>\n",
       "    </tr>\n",
       "    <tr>\n",
       "      <th>22</th>\n",
       "      <td>ד7</td>\n",
       "      <td>15</td>\n",
       "      <td>2147</td>\n",
       "      <td>0.200000</td>\n",
       "      <td>0.153237</td>\n",
       "      <td>-0.046763</td>\n",
       "    </tr>\n",
       "    <tr>\n",
       "      <th>23</th>\n",
       "      <td>ד8</td>\n",
       "      <td>929</td>\n",
       "      <td>2175</td>\n",
       "      <td>0.149623</td>\n",
       "      <td>0.183908</td>\n",
       "      <td>0.034285</td>\n",
       "    </tr>\n",
       "    <tr>\n",
       "      <th>24</th>\n",
       "      <td>ה10</td>\n",
       "      <td>365</td>\n",
       "      <td>30</td>\n",
       "      <td>0.183562</td>\n",
       "      <td>0.200000</td>\n",
       "      <td>0.016438</td>\n",
       "    </tr>\n",
       "    <tr>\n",
       "      <th>25</th>\n",
       "      <td>ה2</td>\n",
       "      <td>22</td>\n",
       "      <td>806</td>\n",
       "      <td>0.181818</td>\n",
       "      <td>0.182382</td>\n",
       "      <td>0.000564</td>\n",
       "    </tr>\n",
       "    <tr>\n",
       "      <th>26</th>\n",
       "      <td>ה4</td>\n",
       "      <td>2122</td>\n",
       "      <td>112</td>\n",
       "      <td>0.208294</td>\n",
       "      <td>0.187500</td>\n",
       "      <td>-0.020794</td>\n",
       "    </tr>\n",
       "    <tr>\n",
       "      <th>27</th>\n",
       "      <td>ה7</td>\n",
       "      <td>247</td>\n",
       "      <td>211</td>\n",
       "      <td>0.299595</td>\n",
       "      <td>0.175355</td>\n",
       "      <td>-0.124240</td>\n",
       "    </tr>\n",
       "    <tr>\n",
       "      <th>28</th>\n",
       "      <td>ה8</td>\n",
       "      <td>951</td>\n",
       "      <td>786</td>\n",
       "      <td>0.178759</td>\n",
       "      <td>0.145038</td>\n",
       "      <td>-0.033721</td>\n",
       "    </tr>\n",
       "    <tr>\n",
       "      <th>29</th>\n",
       "      <td>ה9</td>\n",
       "      <td>418</td>\n",
       "      <td>17</td>\n",
       "      <td>0.215311</td>\n",
       "      <td>0.058824</td>\n",
       "      <td>-0.156487</td>\n",
       "    </tr>\n",
       "  </tbody>\n",
       "</table>\n",
       "</div>"
      ],
      "text/plain": [
       "   office  arab_count_within_office  not_arab_count_within_office  \\\n",
       "0      א4                       333                          2220   \n",
       "1      א6                       219                           787   \n",
       "2     ב10                      1771                           101   \n",
       "3      ב3                      2916                          1725   \n",
       "4      ב5                      1068                           644   \n",
       "5      ב8                        43                            39   \n",
       "6      ג1                       250                          2714   \n",
       "7     ג11                       444                           482   \n",
       "8      ג3                        22                            44   \n",
       "9      ג5                      1983                           106   \n",
       "10     ד1                        59                           783   \n",
       "11    ד10                        40                           246   \n",
       "12    ד12                        34                            48   \n",
       "13    ד14                      2923                            23   \n",
       "14    ד15                       819                            18   \n",
       "15    ד16                      2722                            29   \n",
       "16    ד18                        97                           112   \n",
       "17    ד19                        79                          1200   \n",
       "18    ד22                      1644                            59   \n",
       "19    ד24                      2157                           170   \n",
       "20     ד3                       699                            92   \n",
       "21     ד4                        50                            27   \n",
       "22     ד7                        15                          2147   \n",
       "23     ד8                       929                          2175   \n",
       "24    ה10                       365                            30   \n",
       "25     ה2                        22                           806   \n",
       "26     ה4                      2122                           112   \n",
       "27     ה7                       247                           211   \n",
       "28     ה8                       951                           786   \n",
       "29     ה9                       418                            17   \n",
       "\n",
       "    arab_proportion  not_arab_proportion      diff  \n",
       "0          0.165165             0.185135  0.019970  \n",
       "1          0.114155             0.111817 -0.002338  \n",
       "2          0.109543             0.099010 -0.010533  \n",
       "3          0.141975             0.149565  0.007590  \n",
       "4          0.082397             0.083851  0.001454  \n",
       "5          0.023256             0.102564  0.079308  \n",
       "6          0.196000             0.231393  0.035393  \n",
       "7          0.141892             0.124481 -0.017411  \n",
       "8          0.090909             0.022727 -0.068182  \n",
       "9          0.177005             0.132075 -0.044929  \n",
       "10         0.203390             0.174968 -0.028422  \n",
       "11         0.200000             0.073171 -0.126829  \n",
       "12         0.029412             0.062500  0.033088  \n",
       "13         0.232638             0.217391 -0.015246  \n",
       "14         0.113553             0.000000 -0.113553  \n",
       "15         0.243571             0.310345  0.066774  \n",
       "16         0.092784             0.116071  0.023288  \n",
       "17         0.164557             0.155000 -0.009557  \n",
       "18         0.248175             0.288136  0.039960  \n",
       "19         0.293927             0.235294 -0.058633  \n",
       "20         0.236052             0.293478  0.057427  \n",
       "21         0.160000             0.074074 -0.085926  \n",
       "22         0.200000             0.153237 -0.046763  \n",
       "23         0.149623             0.183908  0.034285  \n",
       "24         0.183562             0.200000  0.016438  \n",
       "25         0.181818             0.182382  0.000564  \n",
       "26         0.208294             0.187500 -0.020794  \n",
       "27         0.299595             0.175355 -0.124240  \n",
       "28         0.178759             0.145038 -0.033721  \n",
       "29         0.215311             0.058824 -0.156487  "
      ]
     },
     "execution_count": 31,
     "metadata": {},
     "output_type": "execute_result"
    }
   ],
   "source": [
    "flat_agg_data"
   ]
  },
  {
   "cell_type": "markdown",
   "metadata": {},
   "source": [
    "## checking for normality "
   ]
  },
  {
   "cell_type": "code",
   "execution_count": 32,
   "metadata": {},
   "outputs": [
    {
     "data": {
      "text/plain": [
       "<matplotlib.axes._subplots.AxesSubplot at 0x1264fc358>"
      ]
     },
     "execution_count": 32,
     "metadata": {},
     "output_type": "execute_result"
    },
    {
     "data": {
      "image/png": "[encoded data removed]",
      "text/plain": [
       "<Figure size 432x288 with 1 Axes>"
      ]
     },
     "metadata": {
      "needs_background": "light"
     },
     "output_type": "display_data"
    }
   ],
   "source": [
    "a= flat_agg_data['diff'] \n",
    "sns.distplot(a, hist=True, kde=True, \n",
    "             bins=15, color = 'darkblue', \n",
    "             hist_kws={'edgecolor':'black'},\n",
    "             kde_kws={'linewidth': 4}\n",
    "            )\n"
   ]
  },
  {
   "cell_type": "markdown",
   "metadata": {},
   "source": [
    "# Our data  cdf and theoretical values cdf from normal distribution"
   ]
  },
  {
   "cell_type": "code",
   "execution_count": 33,
   "metadata": {},
   "outputs": [],
   "source": [
    "def ks_plot_norm(data):\n",
    "    length = len(data)\n",
    "    plt.figure(figsize=(10, 5))\n",
    "    plt.plot(np.sort(data), np.linspace(0, 1, len(data), endpoint=False))\n",
    "    plt.plot(np.sort(stats.norm.rvs(loc=np.mean(data), scale=np.std(data), size=len(data))), np.linspace(0, 1, len(data), endpoint=False))\n",
    "    plt.legend('top right')\n",
    "    plt.legend(['Data', 'Theoretical Values'])\n",
    "    plt.title('Comparing CDFs for KS-Test')"
   ]
  },
  {
   "cell_type": "code",
   "execution_count": 34,
   "metadata": {},
   "outputs": [
    {
     "data": {
      "image/png": "[encoded data removed]",
      "text/plain": [
       "<Figure size 720x360 with 1 Axes>"
      ]
     },
     "metadata": {
      "needs_background": "light"
     },
     "output_type": "display_data"
    }
   ],
   "source": [
    "ks_plot_norm(a)"
   ]
  },
  {
   "cell_type": "markdown",
   "metadata": {},
   "source": [
    "###### looks like our data cdf is very close to cdf of normal distribution, now we just need to test it, we choose to use the Kolmogorov Smirnov test for normality"
   ]
  },
  {
   "cell_type": "markdown",
   "metadata": {},
   "source": [
    "# Kolmogorov Smirnov test for normality"
   ]
  },
  {
   "cell_type": "markdown",
   "metadata": {},
   "source": [
    "#### Normalization of data"
   ]
  },
  {
   "cell_type": "code",
   "execution_count": 35,
   "metadata": {},
   "outputs": [],
   "source": [
    "a = (a - np.mean(a))/np.std(a)"
   ]
  },
  {
   "cell_type": "code",
   "execution_count": 39,
   "metadata": {},
   "outputs": [
    {
     "data": {
      "text/plain": [
       "KstestResult(statistic=0.1160630351595065, pvalue=0.8137852163264059)"
      ]
     },
     "execution_count": 39,
     "metadata": {},
     "output_type": "execute_result"
    }
   ],
   "source": [
    "sp.stats.kstest(a, 'norm')"
   ]
  },
  {
   "cell_type": "markdown",
   "metadata": {},
   "source": [
    "#### The P_value we get is much more bigger than 0.05 , that meaning we do not reject the null hypothesis which says that are data belongs to the normal distribution\n"
   ]
  },
  {
   "cell_type": "markdown",
   "metadata": {},
   "source": [
    "# t-test\n",
    "### since we have 30 samples and we saw that the data is normaly distributed we can use t-test"
   ]
  },
  {
   "cell_type": "markdown",
   "metadata": {},
   "source": [
    "We will use the following formula to examine the difference between dependent pairs.\n",
    "It is assumed that there are more similar characteristics to populations from the same offices\n",
    "\n",
    "\\begin{align}\n",
    "H_0: \\mu = 0 \\\\\n",
    "H_1: \\mu !=  0 \\\\\n",
    "\\end{align}\n",
    "\n",
    " when our statistic is \n",
    " \n",
    "\n",
    "$$ t =  \\frac{\\bar{D}}{\\sqrt{\\frac{s^2}{n}}}$$ \n",
    "when\n",
    "$$ \\bar{D} =  \\frac{1}{n} \\sum{X-Y}$$ \n"
   ]
  },
  {
   "cell_type": "markdown",
   "metadata": {},
   "source": [
    "### calculation of accepted value estimator ( the average)\n",
    " \n",
    "$$ \\bar{D} =  \\frac{1}{n} \\sum{X-Y}$$ "
   ]
  },
  {
   "cell_type": "code",
   "execution_count": 40,
   "metadata": {},
   "outputs": [
    {
     "data": {
      "text/plain": [
       "-0.01826748065950308"
      ]
     },
     "execution_count": 40,
     "metadata": {},
     "output_type": "execute_result"
    }
   ],
   "source": [
    "D_bar = flat_agg_data['diff'].mean()\n",
    "D_bar"
   ]
  },
  {
   "cell_type": "markdown",
   "metadata": {},
   "source": [
    "### calculation of variance estimator\n",
    " \n",
    "$$ s^2 $$ "
   ]
  },
  {
   "cell_type": "code",
   "execution_count": 41,
   "metadata": {},
   "outputs": [
    {
     "data": {
      "text/plain": [
       "0.00352159108043281"
      ]
     },
     "execution_count": 41,
     "metadata": {},
     "output_type": "execute_result"
    }
   ],
   "source": [
    "s_2 = flat_agg_data['diff'].var()\n",
    "s_2"
   ]
  },
  {
   "cell_type": "markdown",
   "metadata": {},
   "source": [
    "### calculation of our statistic"
   ]
  },
  {
   "cell_type": "code",
   "execution_count": 42,
   "metadata": {},
   "outputs": [
    {
     "data": {
      "text/plain": [
       "-1.6860475597295403"
      ]
     },
     "execution_count": 42,
     "metadata": {},
     "output_type": "execute_result"
    }
   ],
   "source": [
    "n = flat_agg_data.shape[0]\n",
    "stat = D_bar/((s_2/n)**0.5)\n",
    "stat"
   ]
  },
  {
   "cell_type": "markdown",
   "metadata": {},
   "source": [
    "## final check - do the statistic is less then the critical value?"
   ]
  },
  {
   "cell_type": "code",
   "execution_count": 43,
   "metadata": {},
   "outputs": [
    {
     "data": {
      "text/plain": [
       "1.6991270265334972"
      ]
     },
     "execution_count": 43,
     "metadata": {},
     "output_type": "execute_result"
    }
   ],
   "source": [
    "scipy.stats.t.ppf(0.95,29)"
   ]
  },
  {
   "cell_type": "code",
   "execution_count": 44,
   "metadata": {},
   "outputs": [
    {
     "data": {
      "text/plain": [
       "True"
      ]
     },
     "execution_count": 44,
     "metadata": {},
     "output_type": "execute_result"
    }
   ],
   "source": [
    "stat <= scipy.stats.t.ppf(0.95,29)"
   ]
  },
  {
   "cell_type": "markdown",
   "metadata": {},
   "source": [
    "## same results but by taking a look over the p_value"
   ]
  },
  {
   "cell_type": "code",
   "execution_count": 45,
   "metadata": {},
   "outputs": [
    {
     "name": "stdout",
     "output_type": "stream",
     "text": [
      "p_value equal to: 0.09726958112890556 \n",
      "do our p_value is less then 0.05 ? answer:False\n"
     ]
    }
   ],
   "source": [
    "print(f\"\"\"p_value equal to: {scipy.stats.t.pdf(stat,29)} \n",
    "do our p_value is less then 0.05 ? answer:{ scipy.stats.t.pdf(stat,29) < 0.05}\"\"\")"
   ]
  },
  {
   "cell_type": "markdown",
   "metadata": {},
   "source": [
    "### so we can say confidently that there is no diff between arabs and non arabs "
   ]
  },
  {
   "cell_type": "code",
   "execution_count": null,
   "metadata": {},
   "outputs": [],
   "source": []
  }
 ],
 "metadata": {
  "kernelspec": {
   "display_name": "Python 3",
   "language": "python",
   "name": "python3"
  },
  "language_info": {
   "codemirror_mode": {
    "name": "ipython",
    "version": 3
   },
   "file_extension": ".py",
   "mimetype": "text/x-python",
   "name": "python",
   "nbconvert_exporter": "python",
   "pygments_lexer": "ipython3",
   "version": "3.7.3"
  }
 },
 "nbformat": 4,
 "nbformat_minor": 2
}

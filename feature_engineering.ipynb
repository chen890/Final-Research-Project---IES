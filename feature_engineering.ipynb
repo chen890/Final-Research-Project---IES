{
 "cells": [
  {
   "cell_type": "markdown",
   "metadata": {},
   "source": [
    "# import python packages"
   ]
  },
  {
   "cell_type": "code",
   "execution_count": 3,
   "metadata": {},
   "outputs": [],
   "source": [
    "import pandas as pd\n",
    "pd.set_option(\"display.max_columns\", 101)\n",
    "import numpy as np\n",
    "import pandasql as ps\n",
    "import copy \n",
    "pd.set_option(\"display.max_rows\", 200)"
   ]
  },
  {
   "cell_type": "markdown",
   "metadata": {},
   "source": [
    "## reading the data"
   ]
  },
  {
   "cell_type": "code",
   "execution_count": 4,
   "metadata": {},
   "outputs": [],
   "source": [
    "df = pd.read_csv('chen_shalev_labeld_row_data.csv')"
   ]
  },
  {
   "cell_type": "code",
   "execution_count": 5,
   "metadata": {},
   "outputs": [],
   "source": [
    "df.to_excel('chen_shalev_row_data_correct_header.xlsx')"
   ]
  },
  {
   "cell_type": "code",
   "execution_count": 6,
   "metadata": {},
   "outputs": [
    {
     "data": {
      "text/plain": [
       "Unnamed: 0                                   int64\n",
       "Unnamed: 0.1                                 int64\n",
       "מחוז מקודד                                  object\n",
       "לשכה מקודדת                                 object\n",
       "סוג תביעה                                   object\n",
       "מספר דוע מקודד                               int64\n",
       "ישוב מקודד                                  object\n",
       "דת                                          object\n",
       "גיל                                          int64\n",
       "חד הורי                                     object\n",
       "מגדר                                        object\n",
       "רמת השכלה                                   object\n",
       "שפות                                        object\n",
       "מצב פעילות                                  object\n",
       "פעילויות קודמות בתוכנית                     object\n",
       "פעילויות שעבר בתכנית                        object\n",
       "כמות אימונים אישיים שבוצעו                   int64\n",
       "ברצף פעילות שנה ויותר                       object\n",
       "ברצף פעילות חצי שנה ויותר                   object\n",
       "משמרת התייצבות                              object\n",
       "תאריך חידוש רישום                           object\n",
       "תאריך חידוש פעילות                          object\n",
       "הערות לטיפול                                object\n",
       "המלצות ועדכונים ליועץ השמה                  object\n",
       "פעילות נוכחית                               object\n",
       "פעילות עתידית                               object\n",
       "פעילות אחרונה בתכנית                        object\n",
       "תאריך פעילות אחרונה בתכנית                  object\n",
       "פעילות  לפני אחרונה בתכנית                  object\n",
       "תאריך פעילות לפני האחרונה בתכנית            object\n",
       "תאריך הפניה אחרונה לעבודה                   object\n",
       "השמות לשכה                                 float64\n",
       "השמות בתמיכת הלשכה                         float64\n",
       "השמות מכניסה לתוכנית                         int64\n",
       "תאריך השמה אחרונה                           object\n",
       "תאריך דיווח השמה אחרונה                     object\n",
       "אישור עבודה חלופי                           object\n",
       "תוקף אישור עבודה                            object\n",
       "היקף אישור עבודה                           float64\n",
       "תאריך קליטת קורות חיים                      object\n",
       "האם קורות חיים נכנס                         object\n",
       "האם הגיש מועמדות                            object\n",
       "תאריך הגשת מועמדות אחרונה                   object\n",
       "תאריך כניסה ראשונית לתוכנית                 object\n",
       "תאריך כניסה אחרונה לתכנית                   object\n",
       "תאריך היעדרות אחרונה                        object\n",
       "מספר היעדרויות                             float64\n",
       "מספר היעדרויות בחודש הנוכחי                float64\n",
       "תאריך אי שת\"פ אחרון                         object\n",
       "מספר אי שת\"פ                               float64\n",
       "תאריך גריעה                                 object\n",
       "סטטוס הפניה                                 object\n",
       "שם תוכנית השמה                              object\n",
       "האם נמצא בהשהיה                             object\n",
       "תאריך השהיה אחרונה                          object\n",
       "סיבת השהיה אחרונה                           object\n",
       "תכניות השמה                                 object\n",
       "בקשה אחרונה להחלטת השמה                     object\n",
       "מצב בקשה אחרונה להחלטת השמה                 object\n",
       "סיבות בקשה אחרונה שאושרה בהחלטות השמה       object\n",
       "תאריך הפניה לתנופה                          object\n",
       "הופנה למיצוי זכויות                         object\n",
       "אין הפניה לעבודה 3 חודשים                   object\n",
       "תאריך תכנון וועדת כושר                      object\n",
       "מספר מקרי דלת מסתובבת בחצי השנה האחרונה    float64\n",
       "מספר מקרי דלת מסתובבת מאז כניסה לתכנית       int64\n",
       "ארץ לידה                                    object\n",
       "מצב משפחתי                                  object\n",
       "ילדים עד גיל 18                            float64\n",
       "סיווג דו\"ע                                  object\n",
       "אחוזי נכות                                 float64\n",
       "מגבלה רפואית                                object\n",
       "עומק אבטלה בחודשים                         float64\n",
       "תדירות התייצבות                             object\n",
       "ציון התאמה אחרון                           float64\n",
       "רמת השכלה.1                                 object\n",
       "רשיונות נהיגה                               object\n",
       "שירות צבאי                                  object\n",
       "האם קורות חיים נכנס.1                       object\n",
       "אסיר משוחרר                                 object\n",
       "פעילויות קודמות בתוכנית.1                   object\n",
       "פעילויות שעבר בתכנית.1                      object\n",
       "האם שווה לעמודה  M                         float64\n",
       "האם שווה לעמודה N                          float64\n",
       "label                                        int64\n",
       "dtype: object"
      ]
     },
     "execution_count": 6,
     "metadata": {},
     "output_type": "execute_result"
    }
   ],
   "source": [
    "df.dtypes"
   ]
  },
  {
   "cell_type": "markdown",
   "metadata": {},
   "source": [
    "### removing duplicate columns"
   ]
  },
  {
   "cell_type": "code",
   "execution_count": 9,
   "metadata": {},
   "outputs": [
    {
     "data": {
      "text/plain": [
       "Index([], dtype='object')"
      ]
     },
     "execution_count": 9,
     "metadata": {},
     "output_type": "execute_result"
    }
   ],
   "source": [
    "df.columns[df.columns.duplicated()]"
   ]
  },
  {
   "cell_type": "code",
   "execution_count": 10,
   "metadata": {},
   "outputs": [],
   "source": [
    "df = df.loc[:,~df.columns.duplicated()]"
   ]
  },
  {
   "cell_type": "markdown",
   "metadata": {},
   "source": [
    "## rename id column"
   ]
  },
  {
   "cell_type": "code",
   "execution_count": 11,
   "metadata": {},
   "outputs": [],
   "source": [
    "df = df.rename(columns = {'מספר דוע מקודד':'id'})"
   ]
  },
  {
   "cell_type": "code",
   "execution_count": 12,
   "metadata": {},
   "outputs": [],
   "source": [
    "df['ישוב מקודד']  = df['ישוב מקודד'].str.replace('ישוב','')"
   ]
  },
  {
   "cell_type": "markdown",
   "metadata": {},
   "source": [
    "### clean religious column"
   ]
  },
  {
   "cell_type": "code",
   "execution_count": 13,
   "metadata": {},
   "outputs": [
    {
     "data": {
      "text/plain": [
       "array(['מוסלמי', 'יהודי', 'נוצרי', 'other', 'דרוזי', 'ללא דת'],\n",
       "      dtype=object)"
      ]
     },
     "execution_count": 13,
     "metadata": {},
     "output_type": "execute_result"
    }
   ],
   "source": [
    "df = df.rename(columns = {'דת':'religious'})\n",
    "df.loc[df['religious'].str.contains('נוצרי'),'religious'] = 'נוצרי'\n",
    "df.loc[df['religious'].str.contains('מוסלמי'),'religious'] = 'מוסלמי'\n",
    "df.loc[df['religious'].str.contains('ללא דת|נוצרי|מוסלמי|יהודי|דרוזי')==False , 'religious'] = 'other'\n",
    "df['religious'].unique()"
   ]
  },
  {
   "cell_type": "markdown",
   "metadata": {},
   "source": [
    "### editing age column"
   ]
  },
  {
   "cell_type": "code",
   "execution_count": 14,
   "metadata": {},
   "outputs": [],
   "source": [
    "df.loc[df['גיל'].between(18, 29),'גיל'] = 1829\n",
    "df.loc[df['גיל'].between(30, 39),'גיל'] = 3039\n",
    "df.loc[df['גיל'].between(40, 49),'גיל'] = 4049\n",
    "df.loc[df['גיל'].between(50, 54),'גיל'] = 5054\n",
    "df.loc[df['גיל'].between(55, 120),'גיל'] = 55120\n",
    "df['גיל'] = 'age_' + df['גיל'].astype(str)"
   ]
  },
  {
   "cell_type": "code",
   "execution_count": 15,
   "metadata": {},
   "outputs": [
    {
     "data": {
      "text/plain": [
       "array(['age_4049', 'age_5054', 'age_3039', 'age_55120', 'age_1829'],\n",
       "      dtype=object)"
      ]
     },
     "execution_count": 15,
     "metadata": {},
     "output_type": "execute_result"
    }
   ],
   "source": [
    "df['גיל'].unique()"
   ]
  },
  {
   "cell_type": "markdown",
   "metadata": {},
   "source": [
    "### editing education column\n"
   ]
  },
  {
   "cell_type": "code",
   "execution_count": 16,
   "metadata": {},
   "outputs": [
    {
     "data": {
      "text/plain": [
       "array(['יסודי', 'יסודי חלקי', 'תיכון חלקי', 'תיכון', 'תעודת בגרות',\n",
       "       'ללא השכלה', 'תואר שני', 'תעודת מקצוע', 'תואר ראשון', 'הנדסאי',\n",
       "       'טכנאי', 'תעודת הוראה', 'רישיון', 'תואר שלישי', 'לימודי תעודה'],\n",
       "      dtype=object)"
      ]
     },
     "execution_count": 16,
     "metadata": {},
     "output_type": "execute_result"
    }
   ],
   "source": [
    "df['רמת השכלה'].unique()"
   ]
  },
  {
   "cell_type": "code",
   "execution_count": 17,
   "metadata": {},
   "outputs": [],
   "source": [
    "df.loc[df['רמת השכלה'].str.contains('יסודי חלקי'),'רמת השכלה'] = 'יסודי'\n",
    "df.loc[df['רמת השכלה'].str.contains('תעודת הוראה'),'רמת השכלה'] = 'לימודי תעודה'\n",
    "df.loc[df['רמת השכלה'].str.contains('הנדסאי'),'רמת השכלה'] = 'לימודי תעודה'\n",
    "df.loc[df['רמת השכלה'].str.contains('טכנאי'),'רמת השכלה'] = 'לימודי תעודה'\n",
    "df.loc[df['רמת השכלה'].str.contains('תעודת מקצוע'),'רמת השכלה'] = 'לימודי תעודה'\n",
    "# df.loc[df['רמת השכלה'].str.contains(''),] = ''\n",
    "# df.loc[df['רמת השכלה'].str.contains(''),] = ''"
   ]
  },
  {
   "cell_type": "code",
   "execution_count": 18,
   "metadata": {},
   "outputs": [],
   "source": [
    "# DF = copy.copy(df)\n",
    "# df = copy.copy(DF)"
   ]
  },
  {
   "cell_type": "markdown",
   "metadata": {},
   "source": [
    "### editing languages column"
   ]
  },
  {
   "cell_type": "code",
   "execution_count": 19,
   "metadata": {},
   "outputs": [],
   "source": [
    "df['שפות'] = df['שפות'].str.replace('שפת אם','')\\\n",
    "    .str.replace('גבוהה','')\\\n",
    "    .str.replace('בינונית','')\\\n",
    "    .str.replace('בסיסית','')\\\n",
    "    .str.replace('-','')\\\n",
    "    .str.replace('-','')\\\n",
    "    .str.replace(' ','')"
   ]
  },
  {
   "cell_type": "markdown",
   "metadata": {},
   "source": [
    "# prepering df to excel"
   ]
  },
  {
   "cell_type": "code",
   "execution_count": 20,
   "metadata": {},
   "outputs": [
    {
     "data": {
      "text/plain": [
       "array(['בר השמה', 'בר השמה מותנה', '0', 'מומלץ להחלטת השמה', 'קשה השמה',\n",
       "       nan], dtype=object)"
      ]
     },
     "execution_count": 20,
     "metadata": {},
     "output_type": "execute_result"
    }
   ],
   "source": [
    "df['סיווג דו\"ע'].unique()"
   ]
  },
  {
   "cell_type": "code",
   "execution_count": 21,
   "metadata": {},
   "outputs": [],
   "source": [
    "to_drop =[ 'id',\n",
    "          'הערות לטיפול',\n",
    "          'פעילות אחרונה בתכנית',\n",
    "          'המלצות ועדכונים ליועץ השמה',\n",
    "          'ברצף פעילות חצי שנה ויותר ',\n",
    "          'פעילויות קודמות בתוכנית',\n",
    "           'תאריך חידוש רישום',\n",
    "           'תאריך חידוש פעילות',\n",
    "           'משמרת התייצבות',\n",
    "           'פעילות נוכחית',\n",
    "           'פעילות עתידית',\n",
    "           'תאריך פעילות אחרונה בתכנית',\n",
    "           'תאריך פעילות לפני האחרונה בתכנית',\n",
    "           'תאריך הפניה אחרונה לעבודה',\n",
    "           'תאריך השמה אחרונה',\n",
    "           'תאריך דיווח השמה אחרונה',\n",
    "           'תוקף אישור עבודה ',\n",
    "           'תאריך קליטת קורות חיים',\n",
    "            'תאריך הגשת מועמדות אחרונה',\n",
    "           'תאריך כניסה ראשונית לתוכנית',\n",
    "           'תאריך כניסה אחרונה לתכנית',\n",
    "           'תאריך היעדרות אחרונה',\n",
    "           'מספר היעדרויות בחודש הנוכחי',\n",
    "           'תאריך אי שת\"פ אחרון',\n",
    "           'תאריך גריעה',\n",
    "          'פעילות  לפני אחרונה בתכנית',\n",
    "           'שם תוכנית השמה',\n",
    "           'תאריך השהיה אחרונה',\n",
    "           'סיבת השהיה אחרונה',\n",
    "           'תכניות השמה', # <==\n",
    "           'סיבות בקשה אחרונה שאושרה בהחלטות השמה',\n",
    "           'תאריך הפניה לתנופה',\n",
    "           'תאריך תכנון וועדת כושר',\n",
    "           'מספר מקרי דלת מסתובבת בחצי השנה האחרונה',\n",
    "           'האם שווה לעמודה  M',\n",
    "           'האם שווה לעמודה N',\n",
    "]"
   ]
  },
  {
   "cell_type": "code",
   "execution_count": 24,
   "metadata": {},
   "outputs": [],
   "source": [
    "df_to_excel = df.drop(to_drop , axis = 1)"
   ]
  },
  {
   "cell_type": "code",
   "execution_count": 25,
   "metadata": {},
   "outputs": [],
   "source": [
    "df_to_excel.to_excel('excel_interactive_dashboard.xlsx')"
   ]
  },
  {
   "cell_type": "markdown",
   "metadata": {},
   "source": [
    "# catergorizing columns"
   ]
  },
  {
   "cell_type": "code",
   "execution_count": 26,
   "metadata": {},
   "outputs": [],
   "source": [
    "t = df['שפות'].str.get_dummies(sep=',')\n",
    "t.columns = ['דובר_' + str(x) for x in t.columns]"
   ]
  },
  {
   "cell_type": "code",
   "execution_count": 27,
   "metadata": {},
   "outputs": [],
   "source": [
    "ln = t.sum(axis=1).to_frame()\n",
    "ln.columns = ['number_of_languages']\n",
    "\n",
    "not_main_languages = t.columns[t.sum()/t.shape[0]<0.01]\n",
    "speak_other_languages = t[not_main_languages].sum(axis=1) >=1 \n",
    "speak_other_languages = speak_other_languages.to_frame()\n",
    "speak_other_languages.columns = ['speak_other_languages.columns']"
   ]
  },
  {
   "cell_type": "code",
   "execution_count": 28,
   "metadata": {
    "scrolled": true
   },
   "outputs": [],
   "source": [
    "t = t.drop(not_main_languages,axis = 1)"
   ]
  },
  {
   "cell_type": "code",
   "execution_count": 29,
   "metadata": {},
   "outputs": [
    {
     "data": {
      "text/html": [
       "<div>\n",
       "<style scoped>\n",
       "    .dataframe tbody tr th:only-of-type {\n",
       "        vertical-align: middle;\n",
       "    }\n",
       "\n",
       "    .dataframe tbody tr th {\n",
       "        vertical-align: top;\n",
       "    }\n",
       "\n",
       "    .dataframe thead th {\n",
       "        text-align: right;\n",
       "    }\n",
       "</style>\n",
       "<table border=\"1\" class=\"dataframe\">\n",
       "  <thead>\n",
       "    <tr style=\"text-align: right;\">\n",
       "      <th></th>\n",
       "      <th>דובר_אמהרית</th>\n",
       "      <th>דובר_אנגלית</th>\n",
       "      <th>דובר_עברית</th>\n",
       "      <th>דובר_ערבית</th>\n",
       "      <th>דובר_צרפתית</th>\n",
       "      <th>דובר_רוסית</th>\n",
       "      <th>speak_other_languages.columns</th>\n",
       "      <th>number_of_languages</th>\n",
       "    </tr>\n",
       "  </thead>\n",
       "  <tbody>\n",
       "    <tr>\n",
       "      <th>0</th>\n",
       "      <td>0</td>\n",
       "      <td>0</td>\n",
       "      <td>1</td>\n",
       "      <td>1</td>\n",
       "      <td>0</td>\n",
       "      <td>0</td>\n",
       "      <td>False</td>\n",
       "      <td>2</td>\n",
       "    </tr>\n",
       "    <tr>\n",
       "      <th>1</th>\n",
       "      <td>0</td>\n",
       "      <td>0</td>\n",
       "      <td>1</td>\n",
       "      <td>1</td>\n",
       "      <td>0</td>\n",
       "      <td>0</td>\n",
       "      <td>False</td>\n",
       "      <td>2</td>\n",
       "    </tr>\n",
       "    <tr>\n",
       "      <th>2</th>\n",
       "      <td>0</td>\n",
       "      <td>0</td>\n",
       "      <td>1</td>\n",
       "      <td>1</td>\n",
       "      <td>0</td>\n",
       "      <td>0</td>\n",
       "      <td>False</td>\n",
       "      <td>2</td>\n",
       "    </tr>\n",
       "    <tr>\n",
       "      <th>3</th>\n",
       "      <td>0</td>\n",
       "      <td>0</td>\n",
       "      <td>1</td>\n",
       "      <td>1</td>\n",
       "      <td>0</td>\n",
       "      <td>0</td>\n",
       "      <td>False</td>\n",
       "      <td>2</td>\n",
       "    </tr>\n",
       "    <tr>\n",
       "      <th>4</th>\n",
       "      <td>0</td>\n",
       "      <td>0</td>\n",
       "      <td>0</td>\n",
       "      <td>1</td>\n",
       "      <td>0</td>\n",
       "      <td>0</td>\n",
       "      <td>False</td>\n",
       "      <td>1</td>\n",
       "    </tr>\n",
       "  </tbody>\n",
       "</table>\n",
       "</div>"
      ],
      "text/plain": [
       "   דובר_אמהרית  דובר_אנגלית  דובר_עברית  דובר_ערבית  דובר_צרפתית  דובר_רוסית  \\\n",
       "0            0            0           1           1            0           0   \n",
       "1            0            0           1           1            0           0   \n",
       "2            0            0           1           1            0           0   \n",
       "3            0            0           1           1            0           0   \n",
       "4            0            0           0           1            0           0   \n",
       "\n",
       "   speak_other_languages.columns  number_of_languages  \n",
       "0                          False                    2  \n",
       "1                          False                    2  \n",
       "2                          False                    2  \n",
       "3                          False                    2  \n",
       "4                          False                    1  "
      ]
     },
     "execution_count": 29,
     "metadata": {},
     "output_type": "execute_result"
    }
   ],
   "source": [
    "# som statistic about lenguages\n",
    "# frequency_of_languages = pd.concat( [pd.DataFrame(t.sum()/t.shape[0]),pd.DataFrame(t.sum()) ],axis=1)\n",
    "# frequency_of_languages.columns = ['percentage','count']\n",
    "# frequency_of_languages.sort_values(by=['count'])\n",
    "languages = pd.concat([t,speak_other_languages,ln],axis=1)\n",
    "languages.head()"
   ]
  },
  {
   "cell_type": "code",
   "execution_count": 30,
   "metadata": {},
   "outputs": [],
   "source": [
    "a= ['מחוז מקודד', 'לשכה מקודדת', 'סוג תביעה', 'id', 'ישוב מקודד','religious','גיל', 'חד הורי', 'מגדר', 'רמת השכלה']\n",
    "b = [x for x in df.columns if x not in a and x != 'שפות']"
   ]
  },
  {
   "cell_type": "code",
   "execution_count": 31,
   "metadata": {},
   "outputs": [],
   "source": [
    "df_new = pd.concat( [df[a],languages,df[b]],axis = 1 )"
   ]
  },
  {
   "cell_type": "code",
   "execution_count": 33,
   "metadata": {},
   "outputs": [],
   "source": [
    "df_programs = copy.copy(df[['פעילויות שעבר בתכנית']])"
   ]
  },
  {
   "cell_type": "code",
   "execution_count": 34,
   "metadata": {
    "scrolled": true
   },
   "outputs": [],
   "source": [
    "programs = df_programs['פעילויות שעבר בתכנית']\n",
    "    "
   ]
  },
  {
   "cell_type": "code",
   "execution_count": 35,
   "metadata": {},
   "outputs": [],
   "source": [
    "\n",
    "programs_list = [  'חיפוש עבודה מונחה'\n",
    "                    ,'סדנת מכינה השמתית מעגלי תעסוקה'\n",
    "                    ,'ייעוץ תעסוקתי'\n",
    "                    ,'סדנת מכינה תהליכית מעגלי תעסוקה'\n",
    "                    ,'סדנת יישומי מחשב מעגלי תעסוקה'\n",
    "                    ,'שיחת אימון אישי'\n",
    "                    ,'ייעוץ פסיכולוגי'\n",
    "                    ,'סדנת ליווי בקבוצה קטנה'\n",
    "                    ,'עברית תעסוקתית'\n",
    "                    ,'זימון למנהל'\n",
    "                    ,'סדנת מכינה השמתית'\n",
    "                    ,'סדנת שינוי'\n",
    "                    ,'סדנת מכינה מחשבים מעגלי תעסוקה'\n",
    "                    ,'סדנת מכינה מעגלי תעסוקה'\n",
    "                    ,'יישומי מחשב מעגלי תעסוקה'\n",
    "                    ,'סדנת השמה פלוס מעגלי תעסוקה'\n",
    "                    ,'סדנת מכינה תהליכית'\n",
    "                    ,'סדנת מכינת השמתית מעגלי תעסוקה'\n",
    "                    ,'סדנת השמה'\n",
    "                    ,'מכינה תהליכית מעגלי תעסוקה'\n",
    "                    ,'סדנת תהליך'\n",
    "                    ,'סדנת מכינה מעורב מעגלי תעסוקה'\n",
    "                    ,'סדנת השמה מעגלי תעסוקה'\n",
    "                    ,'סדנת רכבת מעגלי תעסוקה'\n",
    "                    ,'סדנת תהליך מעגלי תעסוקה'\n",
    "                    ,'קורס יישומי מחשב'\n",
    "                    ,'יישומי מחשב מעגלי תעסוקה'\n",
    "                    ,'קורס יישומי מחשב'\n",
    "                    ,'סדנת שינוי מעגלי תעסוקה'\n",
    "                    ,'מכינה השמתית'\n",
    "                 ,]\n"
   ]
  },
  {
   "cell_type": "code",
   "execution_count": 36,
   "metadata": {},
   "outputs": [],
   "source": [
    "l =[]\n",
    "for i in programs:\n",
    "    p = ''\n",
    "    for x in programs_list:\n",
    "        if x in str(i):\n",
    "            p = p + x + ','\n",
    "            \n",
    "    if p == '':\n",
    "        p= None \n",
    "        \n",
    "    l.append(p)\n",
    "            "
   ]
  },
  {
   "cell_type": "code",
   "execution_count": 37,
   "metadata": {},
   "outputs": [],
   "source": [
    "df_programs['פעילויות שעבר בתכנית'] = l"
   ]
  },
  {
   "cell_type": "code",
   "execution_count": 38,
   "metadata": {},
   "outputs": [
    {
     "data": {
      "text/plain": [
       "0    חיפוש עבודה מונחה,שיחת אימון אישי,סדנת שינוי,ס...\n",
       "1    שיחת אימון אישי,סדנת מכינה השמתית,סדנת מכינה ת...\n",
       "2                       ייעוץ תעסוקתי,שיחת אימון אישי,\n",
       "Name: פעילויות שעבר בתכנית, dtype: object"
      ]
     },
     "execution_count": 38,
     "metadata": {},
     "output_type": "execute_result"
    }
   ],
   "source": [
    "df_programs['פעילויות שעבר בתכנית'].head(3)"
   ]
  },
  {
   "cell_type": "code",
   "execution_count": 39,
   "metadata": {},
   "outputs": [],
   "source": [
    "prog =  df_programs['פעילויות שעבר בתכנית'].str.get_dummies(sep=',')\n",
    "prog.columns = ['פעילויות שעבר בתכנית_' + str(x) for x in prog.columns]"
   ]
  },
  {
   "cell_type": "code",
   "execution_count": 40,
   "metadata": {},
   "outputs": [],
   "source": [
    "pn = prog.sum(axis=1).to_frame()\n",
    "pn.columns = ['number_of_programs']"
   ]
  },
  {
   "cell_type": "code",
   "execution_count": 41,
   "metadata": {},
   "outputs": [],
   "source": [
    "program_summary = pd.concat([prog,pn],axis=1)"
   ]
  },
  {
   "cell_type": "code",
   "execution_count": 42,
   "metadata": {
    "scrolled": true
   },
   "outputs": [
    {
     "data": {
      "text/html": [
       "<div>\n",
       "<style scoped>\n",
       "    .dataframe tbody tr th:only-of-type {\n",
       "        vertical-align: middle;\n",
       "    }\n",
       "\n",
       "    .dataframe tbody tr th {\n",
       "        vertical-align: top;\n",
       "    }\n",
       "\n",
       "    .dataframe thead th {\n",
       "        text-align: right;\n",
       "    }\n",
       "</style>\n",
       "<table border=\"1\" class=\"dataframe\">\n",
       "  <thead>\n",
       "    <tr style=\"text-align: right;\">\n",
       "      <th></th>\n",
       "      <th>פעילויות שעבר בתכנית_זימון למנהל</th>\n",
       "      <th>פעילויות שעבר בתכנית_חיפוש עבודה מונחה</th>\n",
       "      <th>פעילויות שעבר בתכנית_ייעוץ פסיכולוגי</th>\n",
       "      <th>פעילויות שעבר בתכנית_ייעוץ תעסוקתי</th>\n",
       "      <th>פעילויות שעבר בתכנית_יישומי מחשב מעגלי תעסוקה</th>\n",
       "      <th>פעילויות שעבר בתכנית_מכינה השמתית</th>\n",
       "      <th>פעילויות שעבר בתכנית_מכינה תהליכית מעגלי תעסוקה</th>\n",
       "      <th>פעילויות שעבר בתכנית_סדנת השמה</th>\n",
       "      <th>פעילויות שעבר בתכנית_סדנת יישומי מחשב מעגלי תעסוקה</th>\n",
       "      <th>פעילויות שעבר בתכנית_סדנת ליווי בקבוצה קטנה</th>\n",
       "      <th>פעילויות שעבר בתכנית_סדנת מכינה השמתית</th>\n",
       "      <th>פעילויות שעבר בתכנית_סדנת מכינה השמתית מעגלי תעסוקה</th>\n",
       "      <th>פעילויות שעבר בתכנית_סדנת מכינה תהליכית</th>\n",
       "      <th>פעילויות שעבר בתכנית_סדנת מכינה תהליכית מעגלי תעסוקה</th>\n",
       "      <th>פעילויות שעבר בתכנית_סדנת שינוי</th>\n",
       "      <th>פעילויות שעבר בתכנית_סדנת תהליך</th>\n",
       "      <th>פעילויות שעבר בתכנית_עברית תעסוקתית</th>\n",
       "      <th>פעילויות שעבר בתכנית_קורס יישומי מחשב</th>\n",
       "      <th>פעילויות שעבר בתכנית_שיחת אימון אישי</th>\n",
       "      <th>number_of_programs</th>\n",
       "    </tr>\n",
       "  </thead>\n",
       "  <tbody>\n",
       "    <tr>\n",
       "      <th>0</th>\n",
       "      <td>0</td>\n",
       "      <td>1</td>\n",
       "      <td>0</td>\n",
       "      <td>0</td>\n",
       "      <td>0</td>\n",
       "      <td>0</td>\n",
       "      <td>0</td>\n",
       "      <td>0</td>\n",
       "      <td>0</td>\n",
       "      <td>0</td>\n",
       "      <td>0</td>\n",
       "      <td>0</td>\n",
       "      <td>1</td>\n",
       "      <td>0</td>\n",
       "      <td>1</td>\n",
       "      <td>0</td>\n",
       "      <td>0</td>\n",
       "      <td>0</td>\n",
       "      <td>1</td>\n",
       "      <td>4</td>\n",
       "    </tr>\n",
       "    <tr>\n",
       "      <th>1</th>\n",
       "      <td>0</td>\n",
       "      <td>0</td>\n",
       "      <td>0</td>\n",
       "      <td>0</td>\n",
       "      <td>0</td>\n",
       "      <td>1</td>\n",
       "      <td>0</td>\n",
       "      <td>0</td>\n",
       "      <td>0</td>\n",
       "      <td>0</td>\n",
       "      <td>1</td>\n",
       "      <td>0</td>\n",
       "      <td>1</td>\n",
       "      <td>0</td>\n",
       "      <td>0</td>\n",
       "      <td>0</td>\n",
       "      <td>0</td>\n",
       "      <td>0</td>\n",
       "      <td>1</td>\n",
       "      <td>4</td>\n",
       "    </tr>\n",
       "  </tbody>\n",
       "</table>\n",
       "</div>"
      ],
      "text/plain": [
       "   פעילויות שעבר בתכנית_זימון למנהל  פעילויות שעבר בתכנית_חיפוש עבודה מונחה  \\\n",
       "0                                 0                                       1   \n",
       "1                                 0                                       0   \n",
       "\n",
       "   פעילויות שעבר בתכנית_ייעוץ פסיכולוגי  פעילויות שעבר בתכנית_ייעוץ תעסוקתי  \\\n",
       "0                                     0                                   0   \n",
       "1                                     0                                   0   \n",
       "\n",
       "   פעילויות שעבר בתכנית_יישומי מחשב מעגלי תעסוקה  \\\n",
       "0                                              0   \n",
       "1                                              0   \n",
       "\n",
       "   פעילויות שעבר בתכנית_מכינה השמתית  \\\n",
       "0                                  0   \n",
       "1                                  1   \n",
       "\n",
       "   פעילויות שעבר בתכנית_מכינה תהליכית מעגלי תעסוקה  \\\n",
       "0                                                0   \n",
       "1                                                0   \n",
       "\n",
       "   פעילויות שעבר בתכנית_סדנת השמה  \\\n",
       "0                               0   \n",
       "1                               0   \n",
       "\n",
       "   פעילויות שעבר בתכנית_סדנת יישומי מחשב מעגלי תעסוקה  \\\n",
       "0                                                  0    \n",
       "1                                                  0    \n",
       "\n",
       "   פעילויות שעבר בתכנית_סדנת ליווי בקבוצה קטנה  \\\n",
       "0                                            0   \n",
       "1                                            0   \n",
       "\n",
       "   פעילויות שעבר בתכנית_סדנת מכינה השמתית  \\\n",
       "0                                       0   \n",
       "1                                       1   \n",
       "\n",
       "   פעילויות שעבר בתכנית_סדנת מכינה השמתית מעגלי תעסוקה  \\\n",
       "0                                                  0     \n",
       "1                                                  0     \n",
       "\n",
       "   פעילויות שעבר בתכנית_סדנת מכינה תהליכית  \\\n",
       "0                                        1   \n",
       "1                                        1   \n",
       "\n",
       "   פעילויות שעבר בתכנית_סדנת מכינה תהליכית מעגלי תעסוקה  \\\n",
       "0                                                  0      \n",
       "1                                                  0      \n",
       "\n",
       "   פעילויות שעבר בתכנית_סדנת שינוי  פעילויות שעבר בתכנית_סדנת תהליך  \\\n",
       "0                                1                                0   \n",
       "1                                0                                0   \n",
       "\n",
       "   פעילויות שעבר בתכנית_עברית תעסוקתית  פעילויות שעבר בתכנית_קורס יישומי מחשב  \\\n",
       "0                                    0                                      0   \n",
       "1                                    0                                      0   \n",
       "\n",
       "   פעילויות שעבר בתכנית_שיחת אימון אישי  number_of_programs  \n",
       "0                                     1                   4  \n",
       "1                                     1                   4  "
      ]
     },
     "execution_count": 42,
     "metadata": {},
     "output_type": "execute_result"
    }
   ],
   "source": [
    "program_summary.head(2)"
   ]
  },
  {
   "cell_type": "code",
   "execution_count": 43,
   "metadata": {},
   "outputs": [],
   "source": [
    "l = list(df.columns)\n",
    "index = l.index('פעילויות שעבר בתכנית')"
   ]
  },
  {
   "cell_type": "code",
   "execution_count": 44,
   "metadata": {},
   "outputs": [],
   "source": [
    "DF = pd.concat([df.iloc[:,0:index],program_summary,df.iloc[:,index:]],axis = 1)"
   ]
  },
  {
   "cell_type": "code",
   "execution_count": 46,
   "metadata": {},
   "outputs": [],
   "source": [
    "df = copy.copy(DF)"
   ]
  },
  {
   "cell_type": "code",
   "execution_count": 47,
   "metadata": {
    "scrolled": true
   },
   "outputs": [
    {
     "data": {
      "text/html": [
       "<div>\n",
       "<style scoped>\n",
       "    .dataframe tbody tr th:only-of-type {\n",
       "        vertical-align: middle;\n",
       "    }\n",
       "\n",
       "    .dataframe tbody tr th {\n",
       "        vertical-align: top;\n",
       "    }\n",
       "\n",
       "    .dataframe thead th {\n",
       "        text-align: right;\n",
       "    }\n",
       "</style>\n",
       "<table border=\"1\" class=\"dataframe\">\n",
       "  <thead>\n",
       "    <tr style=\"text-align: right;\">\n",
       "      <th></th>\n",
       "      <th>-</th>\n",
       "      <th>אוזבקיסטן</th>\n",
       "      <th>אוסטריה</th>\n",
       "      <th>אוסטרליה</th>\n",
       "      <th>אוקראינה</th>\n",
       "      <th>אורגוואי</th>\n",
       "      <th>אזרביג'אן</th>\n",
       "      <th>איטליה</th>\n",
       "      <th>אירלנד</th>\n",
       "      <th>אירן</th>\n",
       "      <th>אל סלואדור</th>\n",
       "      <th>אלבניה</th>\n",
       "      <th>אלגיריה</th>\n",
       "      <th>אסטוניה</th>\n",
       "      <th>אפגניסטן</th>\n",
       "      <th>אקואדור</th>\n",
       "      <th>ארגנטינה</th>\n",
       "      <th>אריתראה</th>\n",
       "      <th>ארמניה</th>\n",
       "      <th>ארצות הברית</th>\n",
       "      <th>אתיופיה</th>\n",
       "      <th>בולגריה</th>\n",
       "      <th>בוליביה</th>\n",
       "      <th>בילורוסיה</th>\n",
       "      <th>בלגיה</th>\n",
       "      <th>ברזיל</th>\n",
       "      <th>בריטניה</th>\n",
       "      <th>ברית המועצות</th>\n",
       "      <th>גאורגיה</th>\n",
       "      <th>גאנה</th>\n",
       "      <th>גווטאמלה</th>\n",
       "      <th>גרוזיה</th>\n",
       "      <th>גרמניה</th>\n",
       "      <th>דנמרק</th>\n",
       "      <th>דרום אמריקה</th>\n",
       "      <th>דרום אפריקה</th>\n",
       "      <th>הודו</th>\n",
       "      <th>הולנד</th>\n",
       "      <th>הונג קונג</th>\n",
       "      <th>הונגריה</th>\n",
       "      <th>הונדורס</th>\n",
       "      <th>ויטנאם הדרומית</th>\n",
       "      <th>ונצואלה</th>\n",
       "      <th>זאיר</th>\n",
       "      <th>חוף השנהב</th>\n",
       "      <th>טג'יקיסטאן</th>\n",
       "      <th>טוגו</th>\n",
       "      <th>יהודה ושומרון</th>\n",
       "      <th>יוגוסלביה</th>\n",
       "      <th>יוון</th>\n",
       "      <th>...</th>\n",
       "      <th>מצרים</th>\n",
       "      <th>מקסיקו</th>\n",
       "      <th>מרוקו</th>\n",
       "      <th>נורווגיה</th>\n",
       "      <th>ניגר</th>\n",
       "      <th>ניגריה</th>\n",
       "      <th>נפאל</th>\n",
       "      <th>סודן</th>\n",
       "      <th>סוריה</th>\n",
       "      <th>סין</th>\n",
       "      <th>סינגפור</th>\n",
       "      <th>סלובקיה</th>\n",
       "      <th>ספרד</th>\n",
       "      <th>סרביה</th>\n",
       "      <th>סרי לנקה (צילון)</th>\n",
       "      <th>עירק</th>\n",
       "      <th>ערב הסעודית</th>\n",
       "      <th>פולין</th>\n",
       "      <th>פורטו ריקו</th>\n",
       "      <th>פורטוגל</th>\n",
       "      <th>פיליפינים</th>\n",
       "      <th>פינלנד</th>\n",
       "      <th>פנמה</th>\n",
       "      <th>פרגוואי</th>\n",
       "      <th>פרו</th>\n",
       "      <th>צ'ילה</th>\n",
       "      <th>צכיה</th>\n",
       "      <th>צרפת</th>\n",
       "      <th>קובה</th>\n",
       "      <th>קולומביה</th>\n",
       "      <th>קונגו</th>\n",
       "      <th>קוסטה ריקה</th>\n",
       "      <th>קזחסטאן</th>\n",
       "      <th>קטר</th>\n",
       "      <th>קירג'זסטאן</th>\n",
       "      <th>קנדה</th>\n",
       "      <th>קניה</th>\n",
       "      <th>קפריסין</th>\n",
       "      <th>רודזיה</th>\n",
       "      <th>רומניה</th>\n",
       "      <th>רוסיה</th>\n",
       "      <th>רמת הגולן</th>\n",
       "      <th>רצועת עזה וסיני</th>\n",
       "      <th>שוודיה</th>\n",
       "      <th>שוויץ</th>\n",
       "      <th>תאילנד</th>\n",
       "      <th>תוניסיה</th>\n",
       "      <th>תורכיה</th>\n",
       "      <th>תורכמניסטאן</th>\n",
       "      <th>תימן</th>\n",
       "    </tr>\n",
       "  </thead>\n",
       "  <tbody>\n",
       "    <tr>\n",
       "      <th>0</th>\n",
       "      <td>0</td>\n",
       "      <td>0</td>\n",
       "      <td>0</td>\n",
       "      <td>0</td>\n",
       "      <td>0</td>\n",
       "      <td>0</td>\n",
       "      <td>0</td>\n",
       "      <td>0</td>\n",
       "      <td>0</td>\n",
       "      <td>0</td>\n",
       "      <td>0</td>\n",
       "      <td>0</td>\n",
       "      <td>0</td>\n",
       "      <td>0</td>\n",
       "      <td>0</td>\n",
       "      <td>0</td>\n",
       "      <td>0</td>\n",
       "      <td>0</td>\n",
       "      <td>0</td>\n",
       "      <td>0</td>\n",
       "      <td>0</td>\n",
       "      <td>0</td>\n",
       "      <td>0</td>\n",
       "      <td>0</td>\n",
       "      <td>0</td>\n",
       "      <td>0</td>\n",
       "      <td>0</td>\n",
       "      <td>0</td>\n",
       "      <td>0</td>\n",
       "      <td>0</td>\n",
       "      <td>0</td>\n",
       "      <td>0</td>\n",
       "      <td>0</td>\n",
       "      <td>0</td>\n",
       "      <td>0</td>\n",
       "      <td>0</td>\n",
       "      <td>0</td>\n",
       "      <td>0</td>\n",
       "      <td>0</td>\n",
       "      <td>0</td>\n",
       "      <td>0</td>\n",
       "      <td>0</td>\n",
       "      <td>0</td>\n",
       "      <td>0</td>\n",
       "      <td>0</td>\n",
       "      <td>0</td>\n",
       "      <td>0</td>\n",
       "      <td>0</td>\n",
       "      <td>0</td>\n",
       "      <td>0</td>\n",
       "      <td>...</td>\n",
       "      <td>0</td>\n",
       "      <td>0</td>\n",
       "      <td>0</td>\n",
       "      <td>0</td>\n",
       "      <td>0</td>\n",
       "      <td>0</td>\n",
       "      <td>0</td>\n",
       "      <td>0</td>\n",
       "      <td>0</td>\n",
       "      <td>0</td>\n",
       "      <td>0</td>\n",
       "      <td>0</td>\n",
       "      <td>0</td>\n",
       "      <td>0</td>\n",
       "      <td>0</td>\n",
       "      <td>0</td>\n",
       "      <td>0</td>\n",
       "      <td>0</td>\n",
       "      <td>0</td>\n",
       "      <td>0</td>\n",
       "      <td>0</td>\n",
       "      <td>0</td>\n",
       "      <td>0</td>\n",
       "      <td>0</td>\n",
       "      <td>0</td>\n",
       "      <td>0</td>\n",
       "      <td>0</td>\n",
       "      <td>0</td>\n",
       "      <td>0</td>\n",
       "      <td>0</td>\n",
       "      <td>0</td>\n",
       "      <td>0</td>\n",
       "      <td>0</td>\n",
       "      <td>0</td>\n",
       "      <td>0</td>\n",
       "      <td>0</td>\n",
       "      <td>0</td>\n",
       "      <td>0</td>\n",
       "      <td>0</td>\n",
       "      <td>0</td>\n",
       "      <td>0</td>\n",
       "      <td>0</td>\n",
       "      <td>0</td>\n",
       "      <td>0</td>\n",
       "      <td>0</td>\n",
       "      <td>0</td>\n",
       "      <td>0</td>\n",
       "      <td>0</td>\n",
       "      <td>0</td>\n",
       "      <td>0</td>\n",
       "    </tr>\n",
       "    <tr>\n",
       "      <th>1</th>\n",
       "      <td>0</td>\n",
       "      <td>0</td>\n",
       "      <td>0</td>\n",
       "      <td>0</td>\n",
       "      <td>0</td>\n",
       "      <td>0</td>\n",
       "      <td>0</td>\n",
       "      <td>0</td>\n",
       "      <td>0</td>\n",
       "      <td>0</td>\n",
       "      <td>0</td>\n",
       "      <td>0</td>\n",
       "      <td>0</td>\n",
       "      <td>0</td>\n",
       "      <td>0</td>\n",
       "      <td>0</td>\n",
       "      <td>0</td>\n",
       "      <td>0</td>\n",
       "      <td>0</td>\n",
       "      <td>0</td>\n",
       "      <td>0</td>\n",
       "      <td>0</td>\n",
       "      <td>0</td>\n",
       "      <td>0</td>\n",
       "      <td>0</td>\n",
       "      <td>0</td>\n",
       "      <td>0</td>\n",
       "      <td>0</td>\n",
       "      <td>0</td>\n",
       "      <td>0</td>\n",
       "      <td>0</td>\n",
       "      <td>0</td>\n",
       "      <td>0</td>\n",
       "      <td>0</td>\n",
       "      <td>0</td>\n",
       "      <td>0</td>\n",
       "      <td>0</td>\n",
       "      <td>0</td>\n",
       "      <td>0</td>\n",
       "      <td>0</td>\n",
       "      <td>0</td>\n",
       "      <td>0</td>\n",
       "      <td>0</td>\n",
       "      <td>0</td>\n",
       "      <td>0</td>\n",
       "      <td>0</td>\n",
       "      <td>0</td>\n",
       "      <td>0</td>\n",
       "      <td>0</td>\n",
       "      <td>0</td>\n",
       "      <td>...</td>\n",
       "      <td>0</td>\n",
       "      <td>0</td>\n",
       "      <td>0</td>\n",
       "      <td>0</td>\n",
       "      <td>0</td>\n",
       "      <td>0</td>\n",
       "      <td>0</td>\n",
       "      <td>0</td>\n",
       "      <td>0</td>\n",
       "      <td>0</td>\n",
       "      <td>0</td>\n",
       "      <td>0</td>\n",
       "      <td>0</td>\n",
       "      <td>0</td>\n",
       "      <td>0</td>\n",
       "      <td>0</td>\n",
       "      <td>0</td>\n",
       "      <td>0</td>\n",
       "      <td>0</td>\n",
       "      <td>0</td>\n",
       "      <td>0</td>\n",
       "      <td>0</td>\n",
       "      <td>0</td>\n",
       "      <td>0</td>\n",
       "      <td>0</td>\n",
       "      <td>0</td>\n",
       "      <td>0</td>\n",
       "      <td>0</td>\n",
       "      <td>0</td>\n",
       "      <td>0</td>\n",
       "      <td>0</td>\n",
       "      <td>0</td>\n",
       "      <td>0</td>\n",
       "      <td>0</td>\n",
       "      <td>0</td>\n",
       "      <td>0</td>\n",
       "      <td>0</td>\n",
       "      <td>0</td>\n",
       "      <td>0</td>\n",
       "      <td>0</td>\n",
       "      <td>0</td>\n",
       "      <td>0</td>\n",
       "      <td>0</td>\n",
       "      <td>0</td>\n",
       "      <td>0</td>\n",
       "      <td>0</td>\n",
       "      <td>0</td>\n",
       "      <td>0</td>\n",
       "      <td>0</td>\n",
       "      <td>0</td>\n",
       "    </tr>\n",
       "  </tbody>\n",
       "</table>\n",
       "<p>2 rows × 112 columns</p>\n",
       "</div>"
      ],
      "text/plain": [
       "   -  אוזבקיסטן  אוסטריה  אוסטרליה  אוקראינה  אורגוואי  אזרביג'אן  איטליה  \\\n",
       "0  0          0        0         0         0         0          0       0   \n",
       "1  0          0        0         0         0         0          0       0   \n",
       "\n",
       "   אירלנד  אירן  אל סלואדור  אלבניה  אלגיריה  אסטוניה  אפגניסטן  אקואדור  \\\n",
       "0       0     0           0       0        0        0         0        0   \n",
       "1       0     0           0       0        0        0         0        0   \n",
       "\n",
       "   ארגנטינה  אריתראה  ארמניה  ארצות הברית  אתיופיה  בולגריה  בוליביה  \\\n",
       "0         0        0       0            0        0        0        0   \n",
       "1         0        0       0            0        0        0        0   \n",
       "\n",
       "   בילורוסיה  בלגיה  ברזיל  בריטניה  ברית המועצות  גאורגיה  גאנה  גווטאמלה  \\\n",
       "0          0      0      0        0             0        0     0         0   \n",
       "1          0      0      0        0             0        0     0         0   \n",
       "\n",
       "   גרוזיה  גרמניה  דנמרק  דרום אמריקה  דרום אפריקה  הודו  הולנד  הונג קונג  \\\n",
       "0       0       0      0            0            0     0      0          0   \n",
       "1       0       0      0            0            0     0      0          0   \n",
       "\n",
       "   הונגריה  הונדורס  ויטנאם הדרומית  ונצואלה  זאיר  חוף השנהב  טג'יקיסטאן  \\\n",
       "0        0        0               0        0     0          0           0   \n",
       "1        0        0               0        0     0          0           0   \n",
       "\n",
       "   טוגו  יהודה ושומרון  יוגוסלביה  יוון  ...  מצרים  מקסיקו  מרוקו  נורווגיה  \\\n",
       "0     0              0          0     0  ...      0       0      0         0   \n",
       "1     0              0          0     0  ...      0       0      0         0   \n",
       "\n",
       "   ניגר  ניגריה  נפאל  סודן  סוריה  סין  סינגפור  סלובקיה  ספרד  סרביה  \\\n",
       "0     0       0     0     0      0    0        0        0     0      0   \n",
       "1     0       0     0     0      0    0        0        0     0      0   \n",
       "\n",
       "   סרי לנקה (צילון)  עירק  ערב הסעודית  פולין  פורטו ריקו  פורטוגל  פיליפינים  \\\n",
       "0                 0     0            0      0           0        0          0   \n",
       "1                 0     0            0      0           0        0          0   \n",
       "\n",
       "   פינלנד  פנמה  פרגוואי  פרו  צ'ילה  צכיה  צרפת  קובה  קולומביה  קונגו  \\\n",
       "0       0     0        0    0      0     0     0     0         0      0   \n",
       "1       0     0        0    0      0     0     0     0         0      0   \n",
       "\n",
       "   קוסטה ריקה  קזחסטאן  קטר  קירג'זסטאן  קנדה  קניה  קפריסין  רודזיה  רומניה  \\\n",
       "0           0        0    0           0     0     0        0       0       0   \n",
       "1           0        0    0           0     0     0        0       0       0   \n",
       "\n",
       "   רוסיה  רמת הגולן  רצועת עזה וסיני  שוודיה  שוויץ  תאילנד  תוניסיה  תורכיה  \\\n",
       "0      0          0                0       0      0       0        0       0   \n",
       "1      0          0                0       0      0       0        0       0   \n",
       "\n",
       "   תורכמניסטאן  תימן  \n",
       "0            0     0  \n",
       "1            0     0  \n",
       "\n",
       "[2 rows x 112 columns]"
      ]
     },
     "execution_count": 47,
     "metadata": {},
     "output_type": "execute_result"
    }
   ],
   "source": [
    "country_df = df['ארץ לידה'].str.get_dummies()\n",
    "country_df.head(2)"
   ]
  },
  {
   "cell_type": "code",
   "execution_count": 48,
   "metadata": {},
   "outputs": [
    {
     "data": {
      "text/plain": [
       "Index(['-', 'אוזבקיסטן', 'אוסטריה', 'אוסטרליה', 'אורגוואי', 'אזרביג'אן',\n",
       "       'איטליה', 'אירלנד', 'אירן', 'אל סלואדור',\n",
       "       ...\n",
       "       'רומניה', 'רמת הגולן', 'רצועת עזה וסיני', 'שוודיה', 'שוויץ', 'תאילנד',\n",
       "       'תוניסיה', 'תורכיה', 'תורכמניסטאן', 'תימן'],\n",
       "      dtype='object', length=106)"
      ]
     },
     "execution_count": 48,
     "metadata": {},
     "output_type": "execute_result"
    }
   ],
   "source": [
    "not_main_countries = country_df.columns[country_df.sum()/country_df.shape[0]<0.01]\n",
    "not_main_countries"
   ]
  },
  {
   "cell_type": "code",
   "execution_count": 49,
   "metadata": {
    "scrolled": true
   },
   "outputs": [
    {
     "data": {
      "text/html": [
       "<div>\n",
       "<style scoped>\n",
       "    .dataframe tbody tr th:only-of-type {\n",
       "        vertical-align: middle;\n",
       "    }\n",
       "\n",
       "    .dataframe tbody tr th {\n",
       "        vertical-align: top;\n",
       "    }\n",
       "\n",
       "    .dataframe thead th {\n",
       "        text-align: right;\n",
       "    }\n",
       "</style>\n",
       "<table border=\"1\" class=\"dataframe\">\n",
       "  <thead>\n",
       "    <tr style=\"text-align: right;\">\n",
       "      <th></th>\n",
       "      <th>other_country</th>\n",
       "    </tr>\n",
       "  </thead>\n",
       "  <tbody>\n",
       "    <tr>\n",
       "      <th>0</th>\n",
       "      <td>0</td>\n",
       "    </tr>\n",
       "    <tr>\n",
       "      <th>1</th>\n",
       "      <td>0</td>\n",
       "    </tr>\n",
       "    <tr>\n",
       "      <th>2</th>\n",
       "      <td>0</td>\n",
       "    </tr>\n",
       "    <tr>\n",
       "      <th>3</th>\n",
       "      <td>0</td>\n",
       "    </tr>\n",
       "    <tr>\n",
       "      <th>4</th>\n",
       "      <td>0</td>\n",
       "    </tr>\n",
       "  </tbody>\n",
       "</table>\n",
       "</div>"
      ],
      "text/plain": [
       "   other_country\n",
       "0              0\n",
       "1              0\n",
       "2              0\n",
       "3              0\n",
       "4              0"
      ]
     },
     "execution_count": 49,
     "metadata": {},
     "output_type": "execute_result"
    }
   ],
   "source": [
    "not_main_countries_df = country_df[not_main_countries].sum(axis=1)\n",
    "not_main_countries_df = pd.DataFrame(not_main_countries_df,columns=['other_country']) \n",
    "not_main_countries_df.head()"
   ]
  },
  {
   "cell_type": "code",
   "execution_count": 50,
   "metadata": {},
   "outputs": [
    {
     "data": {
      "text/html": [
       "<div>\n",
       "<style scoped>\n",
       "    .dataframe tbody tr th:only-of-type {\n",
       "        vertical-align: middle;\n",
       "    }\n",
       "\n",
       "    .dataframe tbody tr th {\n",
       "        vertical-align: top;\n",
       "    }\n",
       "\n",
       "    .dataframe thead th {\n",
       "        text-align: right;\n",
       "    }\n",
       "</style>\n",
       "<table border=\"1\" class=\"dataframe\">\n",
       "  <thead>\n",
       "    <tr style=\"text-align: right;\">\n",
       "      <th></th>\n",
       "      <th>ארץ_לידה_אוקראינה</th>\n",
       "      <th>ארץ_לידה_אתיופיה</th>\n",
       "      <th>ארץ_לידה_ברית המועצות</th>\n",
       "      <th>ארץ_לידה_יהודה ושומרון</th>\n",
       "      <th>ארץ_לידה_ישראל</th>\n",
       "      <th>ארץ_לידה_רוסיה</th>\n",
       "      <th>ארץ_לידה_other_country</th>\n",
       "    </tr>\n",
       "  </thead>\n",
       "  <tbody>\n",
       "    <tr>\n",
       "      <th>0</th>\n",
       "      <td>0</td>\n",
       "      <td>0</td>\n",
       "      <td>0</td>\n",
       "      <td>0</td>\n",
       "      <td>1</td>\n",
       "      <td>0</td>\n",
       "      <td>0</td>\n",
       "    </tr>\n",
       "    <tr>\n",
       "      <th>1</th>\n",
       "      <td>0</td>\n",
       "      <td>0</td>\n",
       "      <td>0</td>\n",
       "      <td>0</td>\n",
       "      <td>1</td>\n",
       "      <td>0</td>\n",
       "      <td>0</td>\n",
       "    </tr>\n",
       "  </tbody>\n",
       "</table>\n",
       "</div>"
      ],
      "text/plain": [
       "   ארץ_לידה_אוקראינה  ארץ_לידה_אתיופיה  ארץ_לידה_ברית המועצות  \\\n",
       "0                  0                 0                      0   \n",
       "1                  0                 0                      0   \n",
       "\n",
       "   ארץ_לידה_יהודה ושומרון  ארץ_לידה_ישראל  ארץ_לידה_רוסיה  \\\n",
       "0                       0               1               0   \n",
       "1                       0               1               0   \n",
       "\n",
       "   ארץ_לידה_other_country  \n",
       "0                       0  \n",
       "1                       0  "
      ]
     },
     "execution_count": 50,
     "metadata": {},
     "output_type": "execute_result"
    }
   ],
   "source": [
    "country_df = pd.concat([country_df,not_main_countries_df],axis = 1)\n",
    "country_df = country_df.drop(not_main_countries,axis = 1)\n",
    "country_df.columns = ['ארץ_לידה_' + str(x) for x in country_df.columns]\n",
    "country_df.head(2)"
   ]
  },
  {
   "cell_type": "code",
   "execution_count": 51,
   "metadata": {
    "scrolled": true
   },
   "outputs": [
    {
     "data": {
      "text/html": [
       "<div>\n",
       "<style scoped>\n",
       "    .dataframe tbody tr th:only-of-type {\n",
       "        vertical-align: middle;\n",
       "    }\n",
       "\n",
       "    .dataframe tbody tr th {\n",
       "        vertical-align: top;\n",
       "    }\n",
       "\n",
       "    .dataframe thead th {\n",
       "        text-align: right;\n",
       "    }\n",
       "</style>\n",
       "<table border=\"1\" class=\"dataframe\">\n",
       "  <thead>\n",
       "    <tr style=\"text-align: right;\">\n",
       "      <th></th>\n",
       "      <th>percentage</th>\n",
       "      <th>count</th>\n",
       "    </tr>\n",
       "  </thead>\n",
       "  <tbody>\n",
       "    <tr>\n",
       "      <th>ארץ_לידה_יהודה ושומרון</th>\n",
       "      <td>0.016700</td>\n",
       "      <td>935</td>\n",
       "    </tr>\n",
       "    <tr>\n",
       "      <th>ארץ_לידה_רוסיה</th>\n",
       "      <td>0.016950</td>\n",
       "      <td>949</td>\n",
       "    </tr>\n",
       "    <tr>\n",
       "      <th>ארץ_לידה_אוקראינה</th>\n",
       "      <td>0.018396</td>\n",
       "      <td>1030</td>\n",
       "    </tr>\n",
       "  </tbody>\n",
       "</table>\n",
       "</div>"
      ],
      "text/plain": [
       "                        percentage  count\n",
       "ארץ_לידה_יהודה ושומרון    0.016700    935\n",
       "ארץ_לידה_רוסיה            0.016950    949\n",
       "ארץ_לידה_אוקראינה         0.018396   1030"
      ]
     },
     "execution_count": 51,
     "metadata": {},
     "output_type": "execute_result"
    }
   ],
   "source": [
    "#some statistic about countries\n",
    "frequency_of_country= pd.concat( [pd.DataFrame(country_df.sum()/country_df.shape[0]),\n",
    "                                  pd.DataFrame(country_df.sum())],\n",
    "                                  axis=1\n",
    "                               )\n",
    "frequency_of_country.columns = ['percentage','count']\n",
    "frequency_of_country.sort_values(by=['count']).head(3)"
   ]
  },
  {
   "cell_type": "code",
   "execution_count": 52,
   "metadata": {},
   "outputs": [],
   "source": [
    "l = list(df.columns)\n",
    "index = l.index('ארץ לידה')\n",
    "DF_last = pd.concat([df.iloc[:,0:index],country_df,df.iloc[:,index:]],axis = 1)\n"
   ]
  },
  {
   "cell_type": "code",
   "execution_count": 53,
   "metadata": {},
   "outputs": [],
   "source": [
    "pd.set_option(\"display.max_columns\", 201)\n"
   ]
  },
  {
   "cell_type": "code",
   "execution_count": 54,
   "metadata": {},
   "outputs": [],
   "source": [
    "df = copy.copy(DF_last)"
   ]
  },
  {
   "cell_type": "code",
   "execution_count": 55,
   "metadata": {},
   "outputs": [],
   "source": [
    "medical_issue_df =df['מגבלה רפואית'].str.get_dummies()"
   ]
  },
  {
   "cell_type": "code",
   "execution_count": 56,
   "metadata": {},
   "outputs": [
    {
     "data": {
      "text/html": [
       "<div>\n",
       "<style scoped>\n",
       "    .dataframe tbody tr th:only-of-type {\n",
       "        vertical-align: middle;\n",
       "    }\n",
       "\n",
       "    .dataframe tbody tr th {\n",
       "        vertical-align: top;\n",
       "    }\n",
       "\n",
       "    .dataframe thead th {\n",
       "        text-align: right;\n",
       "    }\n",
       "</style>\n",
       "<table border=\"1\" class=\"dataframe\">\n",
       "  <thead>\n",
       "    <tr style=\"text-align: right;\">\n",
       "      <th></th>\n",
       "      <th>מגבלה_רפואית_0</th>\n",
       "      <th>מגבלה_רפואית_בינונית</th>\n",
       "      <th>מגבלה_רפואית_ללא מגבלות</th>\n",
       "      <th>מגבלה_רפואית_קלה</th>\n",
       "      <th>מגבלה_רפואית_קשה</th>\n",
       "    </tr>\n",
       "  </thead>\n",
       "  <tbody>\n",
       "    <tr>\n",
       "      <th>0</th>\n",
       "      <td>0</td>\n",
       "      <td>0</td>\n",
       "      <td>1</td>\n",
       "      <td>0</td>\n",
       "      <td>0</td>\n",
       "    </tr>\n",
       "    <tr>\n",
       "      <th>1</th>\n",
       "      <td>0</td>\n",
       "      <td>0</td>\n",
       "      <td>1</td>\n",
       "      <td>0</td>\n",
       "      <td>0</td>\n",
       "    </tr>\n",
       "    <tr>\n",
       "      <th>2</th>\n",
       "      <td>1</td>\n",
       "      <td>0</td>\n",
       "      <td>0</td>\n",
       "      <td>0</td>\n",
       "      <td>0</td>\n",
       "    </tr>\n",
       "    <tr>\n",
       "      <th>3</th>\n",
       "      <td>0</td>\n",
       "      <td>1</td>\n",
       "      <td>0</td>\n",
       "      <td>0</td>\n",
       "      <td>0</td>\n",
       "    </tr>\n",
       "    <tr>\n",
       "      <th>4</th>\n",
       "      <td>0</td>\n",
       "      <td>0</td>\n",
       "      <td>1</td>\n",
       "      <td>0</td>\n",
       "      <td>0</td>\n",
       "    </tr>\n",
       "  </tbody>\n",
       "</table>\n",
       "</div>"
      ],
      "text/plain": [
       "   מגבלה_רפואית_0  מגבלה_רפואית_בינונית  מגבלה_רפואית_ללא מגבלות  \\\n",
       "0               0                     0                        1   \n",
       "1               0                     0                        1   \n",
       "2               1                     0                        0   \n",
       "3               0                     1                        0   \n",
       "4               0                     0                        1   \n",
       "\n",
       "   מגבלה_רפואית_קלה  מגבלה_רפואית_קשה  \n",
       "0                 0                 0  \n",
       "1                 0                 0  \n",
       "2                 0                 0  \n",
       "3                 0                 0  \n",
       "4                 0                 0  "
      ]
     },
     "execution_count": 56,
     "metadata": {},
     "output_type": "execute_result"
    }
   ],
   "source": [
    "medical_issue_df.columns = ['מגבלה_רפואית_' + str(x) for x in medical_issue_df.columns]\n",
    "medical_issue_df.head()"
   ]
  },
  {
   "cell_type": "code",
   "execution_count": 57,
   "metadata": {},
   "outputs": [],
   "source": [
    "l = list(df.columns)\n",
    "index = l.index('מגבלה רפואית')\n",
    "DF_medical = pd.concat([df.iloc[:,0:index],medical_issue_df,df.iloc[:,index:]],axis = 1)"
   ]
  },
  {
   "cell_type": "code",
   "execution_count": 58,
   "metadata": {},
   "outputs": [],
   "source": [
    "df = copy.copy(DF_medical)"
   ]
  },
  {
   "cell_type": "code",
   "execution_count": 59,
   "metadata": {},
   "outputs": [],
   "source": [
    "frequency_df =df['תדירות התייצבות'].str.get_dummies()\n",
    "frequency_df.columns = ['תדירות התייצבות_' + str(x) for x in frequency_df.columns]\n",
    "l = list(df.columns)\n",
    "index = l.index('תדירות התייצבות')\n",
    "DF_frequency = pd.concat([df.iloc[:,0:index],frequency_df,df.iloc[:,index:]],axis = 1)"
   ]
  },
  {
   "cell_type": "code",
   "execution_count": 60,
   "metadata": {},
   "outputs": [],
   "source": [
    "df = copy.copy(DF_frequency)"
   ]
  },
  {
   "cell_type": "code",
   "execution_count": 61,
   "metadata": {},
   "outputs": [],
   "source": [
    "drive_licenses_df = df['רשיונות נהיגה'].str.get_dummies(sep=',')"
   ]
  },
  {
   "cell_type": "code",
   "execution_count": 62,
   "metadata": {},
   "outputs": [
    {
     "data": {
      "text/plain": [
       "Index([' 1 - טרקטור', ' A - אופנוע מעל 47.46 כוחות סוס 35 קילוואט',\n",
       "       ' A1 - אופנוע עד 14.6 כוחות סוס ועד 35 קילוואט',\n",
       "       ' A2 - אופנוע עד 14.6 כוחות סוס ועד 11 קילוואט', ' C',\n",
       "       ' C - רכב משא מעל 12 טון (פולטריילר)', ' D - אוטובוס', ' D1 - מונית',\n",
       "       ' D3 - אוטובוס זעיר פרטי',\n",
       "       ' רכב סיור ואוטובוס זעיר ציבורי במשקל של עד 5 טון', '1 - טרקטור',\n",
       "       'A - אופנוע מעל 47.46 כוחות סוס 35 קילוואט',\n",
       "       'A1 - אופנוע עד 14.6 כוחות סוס ועד 35 קילוואט',\n",
       "       'A2 - אופנוע עד 14.6 כוחות סוס ועד 11 קילוואט', 'C',\n",
       "       'C - רכב משא מעל 12 טון (פולטריילר)', 'D - אוטובוס', 'D1 - מונית',\n",
       "       'D3 - אוטובוס זעיר פרטי',\n",
       "       'E -  רכב משא מעל 3.5 טון שצמוד אליו גרור או נתמך (סמיטריילר)'],\n",
       "      dtype='object')"
      ]
     },
     "execution_count": 62,
     "metadata": {},
     "output_type": "execute_result"
    }
   ],
   "source": [
    "not_main_drive_licenses= drive_licenses_df.columns[drive_licenses_df.sum()/drive_licenses_df.shape[0]<0.005]\n",
    "not_main_drive_licenses"
   ]
  },
  {
   "cell_type": "code",
   "execution_count": 63,
   "metadata": {},
   "outputs": [],
   "source": [
    "not_main_drive_licenses_df = drive_licenses_df[not_main_drive_licenses].sum(axis=1)\n",
    "not_main_drive_licenses_df = pd.DataFrame(not_main_drive_licenses_df,columns=['other_drive_licenses']) \n",
    "drive_licenses_df = pd.concat([drive_licenses_df,not_main_drive_licenses_df],axis = 1)\n",
    "drive_licenses_df = drive_licenses_df.drop(not_main_drive_licenses,axis = 1)\n",
    "drive_licenses_df.columns = ['רשיונות_נהיגה_' + str(x) for x in drive_licenses_df.columns]\n"
   ]
  },
  {
   "cell_type": "code",
   "execution_count": 65,
   "metadata": {},
   "outputs": [],
   "source": [
    "l = list(df.columns)\n",
    "index = l.index('רשיונות נהיגה')\n",
    "DF_drive_licenses = pd.concat([df.iloc[:,0:index],drive_licenses_df,df.iloc[:,index:]],axis = 1)"
   ]
  },
  {
   "cell_type": "code",
   "execution_count": 66,
   "metadata": {},
   "outputs": [],
   "source": [
    "df = copy.copy( DF_drive_licenses)"
   ]
  },
  {
   "cell_type": "markdown",
   "metadata": {},
   "source": [
    "### military"
   ]
  },
  {
   "cell_type": "code",
   "execution_count": 67,
   "metadata": {},
   "outputs": [],
   "source": [
    "military_df = df['שירות צבאי'].str.get_dummies()"
   ]
  },
  {
   "cell_type": "code",
   "execution_count": 68,
   "metadata": {},
   "outputs": [],
   "source": [
    "military_df.columns = ['שירות צבאי_' + str(x) for x in military_df.columns]\n",
    "l = list(df.columns)\n",
    "index = l.index('שירות צבאי')\n",
    "DF_military_df = pd.concat([df.iloc[:,0:index],military_df,df.iloc[:,index:]],axis = 1)"
   ]
  },
  {
   "cell_type": "markdown",
   "metadata": {},
   "source": [
    "### presion"
   ]
  },
  {
   "cell_type": "code",
   "execution_count": 69,
   "metadata": {},
   "outputs": [],
   "source": [
    "DF_presion = copy.copy(DF_military_df)"
   ]
  },
  {
   "cell_type": "code",
   "execution_count": 73,
   "metadata": {},
   "outputs": [
    {
     "name": "stderr",
     "output_type": "stream",
     "text": [
      "/Users/razshmuely/anaconda3/lib/python3.7/site-packages/ipykernel_launcher.py:4: SettingWithCopyWarning: \n",
      "A value is trying to be set on a copy of a slice from a DataFrame\n",
      "\n",
      "See the caveats in the documentation: http://pandas.pydata.org/pandas-docs/stable/indexing.html#indexing-view-versus-copy\n",
      "  after removing the cwd from sys.path.\n",
      "/Users/razshmuely/anaconda3/lib/python3.7/site-packages/ipykernel_launcher.py:5: SettingWithCopyWarning: \n",
      "A value is trying to be set on a copy of a slice from a DataFrame\n",
      "\n",
      "See the caveats in the documentation: http://pandas.pydata.org/pandas-docs/stable/indexing.html#indexing-view-versus-copy\n",
      "  \"\"\"\n"
     ]
    }
   ],
   "source": [
    "yes = copy.copy(DF_presion['אסיר משוחרר'] =='כן')\n",
    "no  = copy.copy(DF_presion['אסיר משוחרר']!= 'כן' )\n",
    "DF = copy.copy(DF_presion)\n",
    "DF['אסיר משוחרר'][yes] = 1\n",
    "DF['אסיר משוחרר'][no] = 0\n"
   ]
  },
  {
   "cell_type": "code",
   "execution_count": 78,
   "metadata": {},
   "outputs": [],
   "source": [
    "DF.to_csv('feature_engineered_df.csv')"
   ]
  }
 ],
 "metadata": {
  "kernelspec": {
   "display_name": "Python 3",
   "language": "python",
   "name": "python3"
  },
  "language_info": {
   "codemirror_mode": {
    "name": "ipython",
    "version": 3
   },
   "file_extension": ".py",
   "mimetype": "text/x-python",
   "name": "python",
   "nbconvert_exporter": "python",
   "pygments_lexer": "ipython3",
   "version": "3.7.3"
  }
 },
 "nbformat": 4,
 "nbformat_minor": 2
}
